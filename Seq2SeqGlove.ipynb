{
 "cells": [
  {
   "cell_type": "code",
   "execution_count": 3,
   "metadata": {
    "id": "eyaX6ahtGqTo"
   },
   "outputs": [],
   "source": [
    "import os\n",
    "import sys\n",
    "import time\n",
    "import numpy as np \n",
    "import pandas as pd\n",
    "import gc\n",
    "import matplotlib.pyplot as plt\n",
    "import re\n",
    "import unicodedata\n",
    "import nltk\n",
    "from nltk.tokenize.toktok import ToktokTokenizer\n",
    "import json\n",
    "import pickle\n",
    "from nltk.stem import PorterStemmer\n",
    "from sklearn.model_selection import train_test_split\n",
    "%matplotlib inline\n",
    "from nltk import sent_tokenize\n",
    "import torch.nn.functional as F\n",
    "import matplotlib.pyplot as plt\n",
    "from rouge import Rouge\n",
    "\n",
    "import math\n",
    "import os\n",
    "import random\n",
    "import string\n",
    "\n",
    "# Pytorch library for training\n",
    "import torch\n",
    "from torch import optim\n",
    "\n",
    "import torch.nn as nn\n",
    "import torch.nn.functional as F\n",
    "from torch.nn.utils.rnn import pack_padded_sequence, pad_packed_sequence"
   ]
  },
  {
   "cell_type": "code",
   "execution_count": null,
   "metadata": {
    "colab": {
     "base_uri": "https://localhost:8080/"
    },
    "id": "gjSi17gGG4CT",
    "outputId": "a6ac608c-40a4-4b1c-dbf9-554468bd4e48"
   },
   "outputs": [
    {
     "name": "stdout",
     "output_type": "stream",
     "text": [
      "Mounted at /content/drive\n"
     ]
    }
   ],
   "source": [
    "from google.colab import drive\n",
    "drive.mount('/content/drive')"
   ]
  },
  {
   "cell_type": "code",
   "execution_count": null,
   "metadata": {
    "id": "mcLSv82kG_0b"
   },
   "outputs": [],
   "source": [
    "os.chdir(\"drive/MyDrive\") "
   ]
  },
  {
   "cell_type": "markdown",
   "metadata": {
    "id": "009KllpcDsXh"
   },
   "source": [
    "###Import GloVe embedding"
   ]
  },
  {
   "cell_type": "code",
   "execution_count": null,
   "metadata": {
    "colab": {
     "base_uri": "https://localhost:8080/"
    },
    "id": "7pL-2jtdHByn",
    "outputId": "7f412ad9-6034-4f8a-b2a1-06b8653ed2db"
   },
   "outputs": [
    {
     "name": "stdout",
     "output_type": "stream",
     "text": [
      "--2021-05-27 21:36:05--  http://nlp.stanford.edu/data/glove.6B.zip\n",
      "Resolving nlp.stanford.edu (nlp.stanford.edu)... 171.64.67.140\n",
      "Connecting to nlp.stanford.edu (nlp.stanford.edu)|171.64.67.140|:80... connected.\n",
      "HTTP request sent, awaiting response... 302 Found\n",
      "Location: https://nlp.stanford.edu/data/glove.6B.zip [following]\n",
      "--2021-05-27 21:36:05--  https://nlp.stanford.edu/data/glove.6B.zip\n",
      "Connecting to nlp.stanford.edu (nlp.stanford.edu)|171.64.67.140|:443... connected.\n",
      "HTTP request sent, awaiting response... 301 Moved Permanently\n",
      "Location: http://downloads.cs.stanford.edu/nlp/data/glove.6B.zip [following]\n",
      "--2021-05-27 21:36:05--  http://downloads.cs.stanford.edu/nlp/data/glove.6B.zip\n",
      "Resolving downloads.cs.stanford.edu (downloads.cs.stanford.edu)... 171.64.64.22\n",
      "Connecting to downloads.cs.stanford.edu (downloads.cs.stanford.edu)|171.64.64.22|:80... connected.\n",
      "HTTP request sent, awaiting response... 200 OK\n",
      "Length: 862182613 (822M) [application/zip]\n",
      "Saving to: ‘glove.6B.zip’\n",
      "\n",
      "glove.6B.zip          3%[                    ]  28.71M  23.5MB/s               ^C\n",
      "Archive:  glove.6B.zip\n",
      "  End-of-central-directory signature not found.  Either this file is not\n",
      "  a zipfile, or it constitutes one disk of a multi-part archive.  In the\n",
      "  latter case the central directory and zipfile comment will be found on\n",
      "  the last disk(s) of this archive.\n",
      "unzip:  cannot find zipfile directory in one of glove.6B.zip or\n",
      "        glove.6B.zip.zip, and cannot find glove.6B.zip.ZIP, period.\n"
     ]
    }
   ],
   "source": [
    "# Set desired dimension of embeddings from [50, 100, 200, 300]\n",
    "embed_dim = 200\n",
    "\n",
    "# Download and unzip GloVe embedding\n",
    "!wget http://nlp.stanford.edu/data/glove.6B.zip\n",
    "!unzip glove.6B.zip"
   ]
  },
  {
   "cell_type": "code",
   "execution_count": 2,
   "metadata": {
    "colab": {
     "base_uri": "https://localhost:8080/"
    },
    "id": "Dgwa6MADJyp2",
    "outputId": "5d71f357-6a4a-4707-8ef8-e8470c6732ec"
   },
   "outputs": [
    {
     "data": {
      "text/plain": [
       "400001"
      ]
     },
     "execution_count": 2,
     "metadata": {},
     "output_type": "execute_result"
    }
   ],
   "source": [
    "# input your pre-train txt path and parse the data\n",
    "embed_dim = 200\n",
    "path = 'glove.6B.200d.txt'\n",
    "\n",
    "embed_dict = {}\n",
    "with open(path,'r') as f:\n",
    "    lines = f.readlines()\n",
    "    for l in lines:\n",
    "        w = l.split()[0]\n",
    "        v = np.array(l.split()[1:]).astype('float')\n",
    "        embed_dict[w] = v\n",
    "\n",
    "embed_dict['@@_unknown_@@'] = np.random.random(embed_dim)\n",
    "\n",
    "# remove all the unnecesary files\n",
    "!rm -rf glove.6B.zip\n",
    "!rm -rf glove.6B.50d.txt\n",
    "!rm -rf glove.6B.100d.txt\n",
    "!rm -rf glove.6B.300d.txt\n",
    "\n",
    "# check the length of the dictionary\n",
    "len(embed_dict.keys())"
   ]
  },
  {
   "cell_type": "markdown",
   "metadata": {
    "id": "eEuVkCWND2m3"
   },
   "source": [
    "###Import data"
   ]
  },
  {
   "cell_type": "code",
   "execution_count": 6,
   "metadata": {
    "colab": {
     "base_uri": "https://localhost:8080/"
    },
    "id": "AHmEgmJoLJ4g",
    "outputId": "b623990e-9b95-4004-e6da-a02d0857c3a0"
   },
   "outputs": [
    {
     "name": "stdout",
     "output_type": "stream",
     "text": [
      "CPU times: user 8.25 s, sys: 800 ms, total: 9.05 s\n",
      "Wall time: 9.07 s\n"
     ]
    }
   ],
   "source": [
    "%%time\n",
    "data = pd.read_csv('wikihowSep.csv')\n",
    "data = data[:100000]\n",
    "data = data.astype(str)\n",
    "rows, columns = data.shape"
   ]
  },
  {
   "cell_type": "code",
   "execution_count": 7,
   "metadata": {
    "id": "fPvkXg5TLUtI"
   },
   "outputs": [],
   "source": [
    "device = torch.device(\"cuda\" if torch.cuda.is_available() else \"cpu\")"
   ]
  },
  {
   "cell_type": "markdown",
   "metadata": {
    "id": "YlZf9QgiD7hG"
   },
   "source": [
    "###Removing sentence which are too long or too short"
   ]
  },
  {
   "cell_type": "code",
   "execution_count": 8,
   "metadata": {
    "id": "GyZbXN20MCaA"
   },
   "outputs": [],
   "source": [
    "contraction_map={\n",
    "    \"ain't\": \"is not\",\n",
    "    \"aren't\": \"are not\",\n",
    "    \"can't\": \"cannot\",\n",
    "    \"cause\": \"because\",\n",
    "    \"could've\": \"could have\",\n",
    "    \"couldn't\": \"could not\",\n",
    "    \"couldn't've\": \"could not have\",\n",
    "    \"didn't\": \"did not\",\n",
    "    \"doesn't\": \"does not\",\n",
    "    \"don't\": \"do not\",\n",
    "    \"hadn't\": \"had not\",\n",
    "    \"hadn't've\": \"had not have\",\n",
    "    \"hasn't\": \"has not\",\n",
    "    \"haven't\": \"have not\",\n",
    "    \"he'd\": \"he would\",\n",
    "    \"he'd've\": \"he would have\",\n",
    "    \"he'll\": \"he will\",\n",
    "    \"he'll've\": \"he will have\",\n",
    "    \"he's\": \"he is\",\n",
    "    \"how'd\": \"how did\",\n",
    "    \"how'd've\": \"how did have\",\n",
    "    \"how'll\": \"how will\",\n",
    "    \"how's\": \"how is\",\n",
    "    \"I'd\": \"I would\",\n",
    "    \"I'd've\": \"I would have\",\n",
    "    \"I'll\": \"I will\",\n",
    "    \"I'll've\": \"I will have\",\n",
    "    \"I'm\": \"I am\",\n",
    "    \"I've\": \"I have\",\n",
    "    \"i'd\": \"i would\",\n",
    "    \"i'd've\": \"i would have\",\n",
    "    \"i'll\": \"i will\",\n",
    "    \"i'll've\": \"i will have\",\n",
    "    \"i'm\": \"i am\",\n",
    "    \"i've\": \"i have\",\n",
    "    \"isn't\": \"is not\",\n",
    "    \"it'd\": \"it would\",\n",
    "    \"it'd've\": \"it would have\",\n",
    "    \"it'll\": \"it will\",\n",
    "    \"it'll've\": \"it will have\",\n",
    "    \"it's\": \"it is\",\n",
    "    \"let's\": \"let us\",\n",
    "    \"ma'am\": \"madam\",\n",
    "    \"mayn't\": \"may not\",\n",
    "    \"might've\": \"might have\",\n",
    "    \"mightn't\": \"might not\",\n",
    "    \"mightn't've\": \"might not have\",\n",
    "    \"must've\": \"might have\",\n",
    "    \"mustn't\": \"must not\",\n",
    "    \"mustn't've\": \"must not have\",\n",
    "    \"needn't\": \"need not\",\n",
    "    \"needn't've\": \"need not have\",\n",
    "    \"o'clock\": \"of the clock\",\n",
    "    \"oughtn't\": \"ought not\",\n",
    "    \"oughtn't've\": \"ought not have\",\n",
    "    \"shan't\": \"shall not\",\n",
    "    \"shall'n't\": \"shall not\",\n",
    "    \"shan't've\": \"shall not have\",\n",
    "    \"she'd\": \"she would\",\n",
    "    \"she'd've\": \"she would have\",\n",
    "    \"she'll\": \"she will\",\n",
    "    \"she'll've\": \"she will have\",\n",
    "    \"she's\": \"she is\",\n",
    "    \"should've\": \"should have\",\n",
    "    \"shouldn't\": \"should not\",\n",
    "    \"shouldn't've\": \"should not have\",\n",
    "    \"so've\": \"so have\",\n",
    "    \"so's\": \"so as\",\n",
    "    \"that'd\": \"that would\",\n",
    "    \"that'd've\": \"that would have\",\n",
    "    \"that's\": \"that is\",\n",
    "    \"there'd\": \"there would\",\n",
    "    \"there'd've\": \"there would have\",\n",
    "    \"there's\": \"there is\",\n",
    "    \"they'd\": \"they would\",\n",
    "    \"they'd've\": \"they would have\",\n",
    "    \"they'll\": \"they will\",\n",
    "    \"they'll've\": \"they will have\",\n",
    "    \"they're\": \"they are\",\n",
    "    \"they've\": \"they have\",\n",
    "    \"to've\": \"to have\",\n",
    "    \"wasn't\": \"was not\",\n",
    "    \"we'd\": \"we would\",\n",
    "    \"we'd've\": \"we would have\",\n",
    "    \"we'll\": \"we will\",\n",
    "    \"we'll've\": \"we will have\",\n",
    "    \"we're\": \"we are\",\n",
    "    \"weren't\": \"were not\",\n",
    "    \"what'll\": \"what will\",\n",
    "    \"what'll've\": \"what will have\",\n",
    "    \"what're\": \"what are\",\n",
    "    \"what's\": \"what is\",\n",
    "    \"what've\": \"what have\",\n",
    "    \"when's\": \"when is\",\n",
    "    \"when've\": \"when have\",\n",
    "    \"where'd\": \"where did\",\n",
    "    \"where's\": \"where is\",\n",
    "    \"where've\": \"where have\",\n",
    "    \"who'll\": \"who will\",\n",
    "    \"who'll've\": \"who will have\",\n",
    "    \"who's\": \"who is\",\n",
    "    \"who've\": \"who have\",\n",
    "    \"why's\": \"why is\",\n",
    "    \"why've\": \"why have\",\n",
    "    \"will've\": \"will have\",\n",
    "    \"won't\": \"will not\",\n",
    "    \"will't've\": \"will not have\",\n",
    "    \"would've\": \"would have\",\n",
    "    \"would't\": \"would not\",\n",
    "    \"would't've\": \"would not have\",\n",
    "    \"y'all\": \"you all\",\n",
    "    \"y'all'd\": \"you all would\",\n",
    "    \"y'all'd've\": \"you all would have\",\n",
    "    \"y'all're\": \"you all are\",\n",
    "    \"y'all've\": \"you have all\",\n",
    "    \"you'd\": \"you would\",\n",
    "    \"you'd've\": \"you would have\",\n",
    "    \"you'll\": \"you will\",\n",
    "    \"you'll've\": \"you will have\",\n",
    "    \"you're\": \"you are\",\n",
    "    \"you've\": \"you have\",\n",
    "}\n",
    "\n",
    "def expand_contractions(sent, mapping):\n",
    "    #pattern for matching contraction with their expansions\n",
    "    pattern = re.compile('({})'.format('|'.join(mapping.keys())), flags=re.IGNORECASE|re.DOTALL)\n",
    "    \n",
    "    def expand_map(contraction):\n",
    "        #using group method to access subgroups of the match\n",
    "        match = contraction.group(0)\n",
    "        #to retain correct case of the word\n",
    "        first_char = match[0]\n",
    "        #find out the expansion\n",
    "        expansion = mapping.get(match) if mapping.get(match) else mapping.get(match.lower())\n",
    "        expansion = first_char + expansion[1:]\n",
    "        return expansion\n",
    "    #using sub method to replace all contractions with their expansions for a sentence\n",
    "    #function expand_map will be called for every non overlapping occurence of the pattern\n",
    "    expand_sent = pattern.sub(expand_map, sent)\n",
    "    return expand_sent"
   ]
  },
  {
   "cell_type": "code",
   "execution_count": 9,
   "metadata": {
    "id": "S6zvw4cRMKLf"
   },
   "outputs": [],
   "source": [
    "data['num_word'] = data['text'].apply(lambda x: len(str(x).split()))\n",
    "num_word = np.sort(data['num_word'].values)\n",
    "\n",
    "data['num_word_hl'] = data['headline'].apply(lambda x: len(str(x).split()))\n",
    "num_word_hl = np.sort(data['num_word_hl'].values)\n",
    "\n",
    "min_text_len = num_word[int(len(num_word)*0.1)]\n",
    "max_text_len = num_word[int(len(num_word)*0.95)]\n",
    "\n",
    "min_hl_len = num_word_hl[int(len(num_word_hl)*0.1)]"
   ]
  },
  {
   "cell_type": "code",
   "execution_count": 10,
   "metadata": {
    "id": "4L09KIjSM4Qd"
   },
   "outputs": [],
   "source": [
    "headline_ratio_threshold = 0.75\n",
    "\n",
    "del_idx = []\n",
    "for i in range(rows):\n",
    "#     if data['num_word'][i] < max_text_len and data['num_word'][i] > min_text_len:\n",
    "    if data['num_word'][i] < min_text_len:\n",
    "        del_idx.append(i)\n",
    "    else:\n",
    "        pass\n",
    "    \n",
    "    if max_text_len < data['num_word'][i]:\n",
    "        del_idx.append(i)\n",
    "    else:\n",
    "        pass\n",
    "\n",
    "    if data['num_word_hl'][i] > headline_ratio_threshold*data['num_word'][i]:\n",
    "        del_idx.append(i)\n",
    "    else:\n",
    "        pass\n",
    "    \n",
    "    if data['num_word_hl'][i] < min_hl_len:\n",
    "        del_idx.append(i)\n",
    "    else:\n",
    "        pass"
   ]
  },
  {
   "cell_type": "code",
   "execution_count": 11,
   "metadata": {
    "id": "Tv_beD0NM7ch"
   },
   "outputs": [],
   "source": [
    "data_new = data.drop(del_idx)\n",
    "del data"
   ]
  },
  {
   "cell_type": "code",
   "execution_count": 12,
   "metadata": {
    "colab": {
     "base_uri": "https://localhost:8080/"
    },
    "id": "XneeLgucNAHH",
    "outputId": "3f8edd73-758f-4a26-a3ad-35783e3ad58b"
   },
   "outputs": [
    {
     "data": {
      "text/plain": [
       "(77774, 7)"
      ]
     },
     "execution_count": 12,
     "metadata": {},
     "output_type": "execute_result"
    }
   ],
   "source": [
    "data_new.shape"
   ]
  },
  {
   "cell_type": "markdown",
   "metadata": {
    "id": "94sxESVZEQrL"
   },
   "source": [
    "###Removing special characters and extra comma\n"
   ]
  },
  {
   "cell_type": "code",
   "execution_count": 13,
   "metadata": {
    "id": "z29-1okQNCXN"
   },
   "outputs": [],
   "source": [
    "def data_loader(dataframe, target_col): \n",
    "    # Extraction from dataframe into a list\n",
    "    text = [article for article in getattr(dataframe, target_col)]\n",
    "    \n",
    "    # Removing accented characters\n",
    "    text = [unicodedata.normalize('NFKD', sentence).encode('ascii', 'ignore').decode('utf-8', 'ignore') for sentence in text]\n",
    "    \n",
    "    # Expanding contractions\n",
    "    text = [expand_contractions(sentence, contraction_map) for sentence in text]\n",
    "\n",
    "    # Removing special characters\n",
    "    pat1 = r'[^a-zA-z0-9.,!?\\s]' \n",
    "    # pat1 = r'[^a-zA-z0-9.,!?/:;\\\"\\'\\s]' \n",
    "    text = [re.sub(pat1, '', sentence) for sentence in text]\n",
    "    \n",
    "    # Removing extra commas\n",
    "    pat2 = r'[.]+[\\n]+[,]'\n",
    "    text = [re.sub(pat2,\".\\n\", sentence) for sentence in text]\n",
    "    \n",
    "    # Removing extra whitespaces and tabs\n",
    "    # pat3 = r'^\\s*|\\s\\s*'\n",
    "    pat3 = r'^\\s+$|\\s+$'\n",
    "    text = [re.sub(pat3, '', sentence).strip() for sentence in text]\n",
    "    \n",
    "    # Add space before '.'\n",
    "    pat4 = r'\\.|\\?|\\！|\\,'\n",
    "    text = [re.sub(pat4, ' ', sentence) for sentence in text]\n",
    "    \n",
    "    # Lowercase\n",
    "    text = [sentence.lower() for sentence in text]\n",
    "    \n",
    "    # Tokenize\n",
    "    text = [('sos ' + sentence + ' eos').split() for sentence in text]\n",
    "    \n",
    "    return np.array(text, dtype=object)"
   ]
  },
  {
   "cell_type": "code",
   "execution_count": 14,
   "metadata": {
    "id": "Oggcix3nNFmT"
   },
   "outputs": [
    {
     "name": "stdout",
     "output_type": "stream",
     "text": [
      "CPU times: user 50.7 s, sys: 329 ms, total: 51 s\n",
      "Wall time: 51.2 s\n"
     ]
    }
   ],
   "source": [
    "%%time\n",
    "text_data = data_loader(data_new, 'text')\n",
    "headline_data = data_loader(data_new, 'headline')"
   ]
  },
  {
   "cell_type": "code",
   "execution_count": 15,
   "metadata": {},
   "outputs": [
    {
     "data": {
      "text/plain": [
       "((77774,), (77774,))"
      ]
     },
     "execution_count": 15,
     "metadata": {},
     "output_type": "execute_result"
    }
   ],
   "source": [
    "text_data.shape, headline_data.shape"
   ]
  },
  {
   "cell_type": "code",
   "execution_count": 16,
   "metadata": {
    "id": "ImuLBEn4NME-"
   },
   "outputs": [],
   "source": [
    "text_train, text_test, headline_train, headline_test = train_test_split(text_data, headline_data, test_size=0.1, random_state=1)\n",
    "text_train, text_dev, headline_train, headline_dev = train_test_split(text_train, headline_train, test_size=0.1, random_state=1)"
   ]
  },
  {
   "cell_type": "code",
   "execution_count": 17,
   "metadata": {
    "id": "xwgWcCh9NWNC"
   },
   "outputs": [],
   "source": [
    "del text_data, headline_data"
   ]
  },
  {
   "cell_type": "code",
   "execution_count": 18,
   "metadata": {
    "colab": {
     "base_uri": "https://localhost:8080/"
    },
    "id": "gzMIYaHcW7Ch",
    "outputId": "31b5a008-6e7b-4a7b-816c-18359821266a"
   },
   "outputs": [
    {
     "data": {
      "text/plain": [
       "(62996,)"
      ]
     },
     "execution_count": 18,
     "metadata": {},
     "output_type": "execute_result"
    }
   ],
   "source": [
    "text_train.shape"
   ]
  },
  {
   "cell_type": "code",
   "execution_count": 19,
   "metadata": {
    "id": "oULmWvR6NcDf"
   },
   "outputs": [],
   "source": [
    "def data_sorter(text, headline): \n",
    "    headline = [y for x,y in sorted(zip(text, headline), key = lambda pair: len(pair[0]), reverse = True)]\n",
    "    text = list(text)\n",
    "    text.sort(key = lambda x: len(x), reverse = True)\n",
    "\n",
    "    return np.array(text), np.array(headline)"
   ]
  },
  {
   "cell_type": "code",
   "execution_count": 20,
   "metadata": {
    "colab": {
     "base_uri": "https://localhost:8080/"
    },
    "id": "li3p-0HXNerH",
    "outputId": "17ed420f-4958-40c3-8875-060db630ef9f"
   },
   "outputs": [],
   "source": [
    "text_train, headline_train = data_sorter(text_train, headline_train)\n",
    "text_test,  headline_test  = data_sorter(text_test, headline_test)\n",
    "text_dev,   headline_dev   = data_sorter(text_dev, headline_dev)"
   ]
  },
  {
   "cell_type": "markdown",
   "metadata": {
    "id": "brmTE1zcEd5r"
   },
   "source": [
    "###Making vocabulary"
   ]
  },
  {
   "cell_type": "code",
   "execution_count": 21,
   "metadata": {
    "id": "NJQPn97oNoxN"
   },
   "outputs": [],
   "source": [
    "class Vocabulary:\n",
    "    PAD_token = 0   # Used for padding short sentences\n",
    "    SOS_token = 1   # Start-of-sentence token\n",
    "    EOS_token = 2   # End-of-sentence token\n",
    "    UNK_token = 3   # Out-of-vocabulary token\n",
    "\n",
    "    def __init__(self, name):\n",
    "        self.name = name\n",
    "        self.word2index = {\"pad\":0, \"sos\":1, \"eos\":2, \"unk\":3}\n",
    "        self.word2count = {\"pad\":0, \"sos\":0, \"eos\":0, \"unk\":0}              \n",
    "        self.index2word = {0: \"pad\", 1: \"sos\", 2: \"eos\", 3: \"unk\"}\n",
    "        self.num_words = 4\n",
    "        self.num_sentences = 0\n",
    "        self.longest_sentence = 0\n",
    "\n",
    "    def add_word(self, word):\n",
    "        if word not in self.word2index:\n",
    "            self.word2index[word] = self.num_words\n",
    "            self.word2count[word] = 1\n",
    "            self.index2word[self.num_words] = word\n",
    "            self.num_words += 1\n",
    "        else:\n",
    "            self.word2count[word] += 1\n",
    "            \n",
    "    def add_sentence(self, sentence):\n",
    "        sentence_len = 0\n",
    "        for word in sentence:           \n",
    "            sentence_len += 1\n",
    "            self.add_word(word)\n",
    "        if sentence_len > self.longest_sentence:\n",
    "            self.longest_sentence = sentence_len\n",
    "        self.num_sentences += 1\n",
    "\n",
    "    def to_word(self, index):\n",
    "        return self.index2word[index]\n",
    "\n",
    "    def to_index(self, word):\n",
    "        return self.word2index[word]"
   ]
  },
  {
   "cell_type": "code",
   "execution_count": 22,
   "metadata": {
    "id": "CKB-nvTKNuB-"
   },
   "outputs": [],
   "source": [
    "text_vocabulary = Vocabulary('text')\n",
    "headline_vocabulary = Vocabulary('headline')"
   ]
  },
  {
   "cell_type": "code",
   "execution_count": 23,
   "metadata": {
    "id": "y98JSP8pN2lv"
   },
   "outputs": [],
   "source": [
    "for i in range(len(text_train)):\n",
    "    text_vocabulary.add_sentence(text_train[i])\n",
    "    for word in text_train[i]:\n",
    "        text_vocabulary.add_word(word)\n",
    "for i in range(len(text_dev)):\n",
    "    text_vocabulary.add_sentence(text_dev[i])\n",
    "    for word in text_dev[i]:\n",
    "        text_vocabulary.add_word(word)\n",
    "for i in range(len(headline_train)):\n",
    "    headline_vocabulary.add_sentence(headline_train[i])\n",
    "    for word in headline_train[i]:\n",
    "        headline_vocabulary.add_word(word)\n",
    "for i in range(len(headline_dev)):\n",
    "    headline_vocabulary.add_sentence(headline_dev[i])\n",
    "    for word in headline_dev[i]:\n",
    "        headline_vocabulary.add_word(word)"
   ]
  },
  {
   "cell_type": "code",
   "execution_count": 24,
   "metadata": {
    "colab": {
     "base_uri": "https://localhost:8080/"
    },
    "id": "8qlnaRIfN9X_",
    "outputId": "51eeeb17-db99-4de6-853e-702b6c23c596"
   },
   "outputs": [
    {
     "name": "stdout",
     "output_type": "stream",
     "text": [
      "57237\n",
      "18431\n"
     ]
    }
   ],
   "source": [
    "print(len(text_vocabulary.word2index.keys()))\n",
    "print(len(headline_vocabulary.word2index.keys()))"
   ]
  },
  {
   "cell_type": "code",
   "execution_count": 246,
   "metadata": {},
   "outputs": [],
   "source": [
    "# text_dictionary\n",
    "with open('text.dictionary', 'wb') as text_dictionary_file:\n",
    "    pickle.dump(text_vocabulary, text_dictionary_file)\n",
    "\n",
    "# headline_dictionary\n",
    "with open('headline.dictionary', 'wb') as headline_dictionary_file:\n",
    "    pickle.dump(headline_vocabulary, headline_dictionary_file)"
   ]
  },
  {
   "cell_type": "markdown",
   "metadata": {
    "id": "PR6v_PcNEj4m"
   },
   "source": [
    "###Making embeddings corresponding to vocabulary"
   ]
  },
  {
   "cell_type": "code",
   "execution_count": 25,
   "metadata": {
    "id": "wACERHWdRJNs"
   },
   "outputs": [],
   "source": [
    "def extract_weight(text_dictionary):\n",
    "    pre_train_weight = []\n",
    "    for word_index in text_dictionary.index2word.keys():\n",
    "        if word_index != 0:\n",
    "            word = text_dictionary.index2word[word_index]\n",
    "            try:\n",
    "                word_vector = embed_dict[word].reshape(1,-1)\n",
    "            except:\n",
    "                word_vector = embed_dict['@@_unknown_@@'].reshape(1,-1) # handle unknown word\n",
    "            pre_train_weight = np.vstack([pre_train_weight,word_vector])\n",
    "    \n",
    "      # add for padding\n",
    "        elif word_index == 0:  \n",
    "            pre_train_weight = np.zeros((1, embed_dim))\n",
    "    return pre_train_weight"
   ]
  },
  {
   "cell_type": "code",
   "execution_count": 26,
   "metadata": {
    "colab": {
     "base_uri": "https://localhost:8080/"
    },
    "id": "PImxjxvFOAP4",
    "outputId": "70db11dc-68eb-4c33-9547-0d427ec0f045"
   },
   "outputs": [
    {
     "name": "stdout",
     "output_type": "stream",
     "text": [
      "CPU times: user 11min 38s, sys: 11min 6s, total: 22min 45s\n",
      "Wall time: 22min 47s\n"
     ]
    }
   ],
   "source": [
    "%%time\n",
    "pre_train_weight = extract_weight(text_vocabulary)\n",
    "pre_train_weight = np.array(pre_train_weight, dtype = np.float32)"
   ]
  },
  {
   "cell_type": "code",
   "execution_count": 27,
   "metadata": {
    "colab": {
     "base_uri": "https://localhost:8080/"
    },
    "id": "lUTQ_HfJRK_U",
    "outputId": "ceb150c1-5f1b-4a47-9ba5-09521d6f261b"
   },
   "outputs": [
    {
     "name": "stdout",
     "output_type": "stream",
     "text": [
      "CPU times: user 1min 11s, sys: 1min, total: 2min 12s\n",
      "Wall time: 2min 12s\n"
     ]
    }
   ],
   "source": [
    "%%time\n",
    "pre_train_weight_head = extract_weight(headline_vocabulary)\n",
    "pre_train_weight_head = np.array(pre_train_weight_head, dtype = np.float32)"
   ]
  },
  {
   "cell_type": "code",
   "execution_count": 28,
   "metadata": {},
   "outputs": [
    {
     "data": {
      "text/plain": [
       "((57237, 200), (18431, 200))"
      ]
     },
     "execution_count": 28,
     "metadata": {},
     "output_type": "execute_result"
    }
   ],
   "source": [
    "pre_train_weight.shape, pre_train_weight_head.shape"
   ]
  },
  {
   "cell_type": "code",
   "execution_count": 247,
   "metadata": {},
   "outputs": [],
   "source": [
    "np.save('embedding.npy', pre_train_weight)"
   ]
  },
  {
   "cell_type": "code",
   "execution_count": 248,
   "metadata": {},
   "outputs": [],
   "source": [
    "np.save('embedding_headline.npy', pre_train_weight_head)"
   ]
  },
  {
   "cell_type": "markdown",
   "metadata": {
    "id": "mRZKwNKME56c"
   },
   "source": [
    "###Transform word into index"
   ]
  },
  {
   "cell_type": "code",
   "execution_count": 29,
   "metadata": {
    "id": "CK9RL86xTiDw"
   },
   "outputs": [],
   "source": [
    "def w2in(data,vocabulary,embeddings):\n",
    "    data_idx = []\n",
    "    lengths = []\n",
    "    for i in range(len(data)):\n",
    "        idx = []\n",
    "        lengths.append(len(data[i]))\n",
    "        for word in data[i]:\n",
    "            try:\n",
    "                word2index = vocabulary.to_index(word)\n",
    "            except:\n",
    "                word2index = vocabulary.to_index('unk')\n",
    "            idx.append(word2index)\n",
    "        data_idx.append(torch.tensor(idx))\n",
    "    lengths = torch.tensor(lengths)\n",
    "    data_pad = torch.nn.utils.rnn.pad_sequence(data_idx, batch_first=True, padding_value=0.0)\n",
    "    return data_idx, data_pad, lengths"
   ]
  },
  {
   "cell_type": "code",
   "execution_count": 30,
   "metadata": {
    "id": "eF3xJQ2cUR1F"
   },
   "outputs": [],
   "source": [
    "text_train_idx, text_train_pad, text_train_lengths = w2in(text_train,text_vocabulary, pre_train_weight)\n",
    "headline_train_idx, headline_train_pad, headline_train_lengths = w2in(headline_train,headline_vocabulary, pre_train_weight)\n",
    "\n",
    "text_dev_idx, text_dev_pad, text_dev_lengths = w2in(text_dev,text_vocabulary, pre_train_weight)\n",
    "headline_dev_idx, headline_dev_pad, headline_dev_lengths = w2in(headline_dev, headline_vocabulary, pre_train_weight)\n",
    "\n",
    "text_test_idx, text_test_pad, text_test_lengths = w2in(text_test,text_vocabulary, pre_train_weight)\n",
    "headline_test_idx, headline_test_pad, headline_test_lengths = w2in(headline_test, headline_vocabulary, pre_train_weight)"
   ]
  },
  {
   "cell_type": "code",
   "execution_count": 31,
   "metadata": {
    "colab": {
     "base_uri": "https://localhost:8080/"
    },
    "id": "TC7b5JoVUfhz",
    "outputId": "7d9596e5-4a4c-4c68-d411-c1f077116fd1"
   },
   "outputs": [
    {
     "name": "stdout",
     "output_type": "stream",
     "text": [
      "torch.Size([7778, 190])\n",
      "torch.Size([62996, 76])\n",
      "torch.Size([62996])\n",
      "57237\n"
     ]
    }
   ],
   "source": [
    "print(text_test_pad.shape)\n",
    "print(headline_train_pad.shape)\n",
    "print(text_train_lengths.shape)\n",
    "print(len(text_vocabulary.word2index.keys()))"
   ]
  },
  {
   "cell_type": "markdown",
   "metadata": {
    "id": "WJ7Fj_pwFB_d"
   },
   "source": [
    "###Combine the data togther"
   ]
  },
  {
   "cell_type": "code",
   "execution_count": 32,
   "metadata": {
    "id": "-BLopH3wYZTf"
   },
   "outputs": [],
   "source": [
    "## Zip text and headline together for dataloader\n",
    "traindata = torch.utils.data.TensorDataset(text_train_pad, headline_train_pad, text_train_lengths, headline_train_lengths)\n",
    "#trainlength = torch.utils.data.TensorDataset(text_train_lengths, headline_train_lengths)\n",
    "\n",
    "devdata = torch.utils.data.TensorDataset(text_dev_pad, headline_dev_pad, text_dev_lengths, headline_dev_lengths)\n",
    "#devlength = torch.utils.data.TensorDataset(text_dev_lengths, headline_dev_lengths)\n",
    "\n",
    "testdata = torch.utils.data.TensorDataset(text_test_pad, headline_test_pad, text_test_lengths, headline_test_lengths)\n",
    "#testlength = torch.utils.data.TensorDataset(text_test_lengths, headline_test_lengths)"
   ]
  },
  {
   "cell_type": "code",
   "execution_count": 249,
   "metadata": {},
   "outputs": [],
   "source": [
    "np.save('text_train_pad.npy', text_train_pad)\n",
    "np.save('text_train_lengths.npy', text_train_lengths)\n",
    "np.save('headline_train_pad.npy', headline_train_pad)\n",
    "np.save('headline_train_lengths.npy', headline_train_lengths)\n",
    "np.save('text_dev_pad.npy', text_dev_pad)\n",
    "np.save('text_dev_lengths.npy', text_dev_lengths)\n",
    "np.save('headline_dev_pad.npy', headline_dev_pad)\n",
    "np.save('headline_dev_lengths.npy', headline_dev_lengths)\n",
    "np.save('text_test_pad.npy', text_test_pad)\n",
    "np.save('text_test_lengths.npy', text_test_lengths)\n",
    "np.save('headline_test_pad.npy', headline_test_pad)\n",
    "np.save('headline_test_lengths.npy', headline_test_lengths)"
   ]
  },
  {
   "cell_type": "code",
   "execution_count": 221,
   "metadata": {},
   "outputs": [],
   "source": [
    "# test data\n",
    "torch.save(testdata, 'testdata_zip.pt')"
   ]
  },
  {
   "cell_type": "code",
   "execution_count": 33,
   "metadata": {
    "id": "CF_0h_NpYSbC"
   },
   "outputs": [],
   "source": [
    "## Set batch size and split data after padding to batches\n",
    "def batch_dataloader(data, Batch_size):\n",
    "    data_dataloader = torch.utils.data.DataLoader(data, batch_size=Batch_size, shuffle=False, num_workers=0)\n",
    "#     for i in data_dataloader:\n",
    "#         i = torch.transpose(i, 0 ,1)\n",
    "#         print(data_dataloader)\n",
    "    \n",
    "    return data_dataloader"
   ]
  },
  {
   "cell_type": "markdown",
   "metadata": {
    "id": "DcP8p82sFUMf"
   },
   "source": [
    "###Set batch size"
   ]
  },
  {
   "cell_type": "code",
   "execution_count": 35,
   "metadata": {
    "id": "3BPBXAnlYT6E"
   },
   "outputs": [],
   "source": [
    "## Training data batching\n",
    "trainloader = batch_dataloader(traindata, 100)\n",
    "#trainlen = batch_dataloader(trainlength, 15)\n",
    "\n",
    "devloader = batch_dataloader(devdata, 50)\n",
    "#devlen = batch_dataloader(devlength, 2)\n",
    "\n",
    "testloader = batch_dataloader(testdata, 50)\n",
    "#testlen = batch_dataloader(testlength, 2)"
   ]
  },
  {
   "cell_type": "code",
   "execution_count": 36,
   "metadata": {
    "id": "-nSK4gY0VbIr"
   },
   "outputs": [],
   "source": [
    "## Transpose dataset for training\n",
    "text_testrun, hl_testrun, text_len, hl_len = next(iter(trainloader))\n",
    "#text_len, hl_len = next(iter(trainlen))\n",
    "\n",
    "text_testrun = torch.transpose(text_testrun, 0 ,1)\n",
    "hl_testrun = torch.transpose(hl_testrun, 0 ,1)"
   ]
  },
  {
   "cell_type": "code",
   "execution_count": 37,
   "metadata": {
    "colab": {
     "base_uri": "https://localhost:8080/"
    },
    "id": "5d5zEpcOefcx",
    "outputId": "1dd5d1d1-79cf-4286-f8ec-4ab329949686"
   },
   "outputs": [
    {
     "data": {
      "text/plain": [
       "torch.Size([202, 100])"
      ]
     },
     "execution_count": 37,
     "metadata": {},
     "output_type": "execute_result"
    }
   ],
   "source": [
    "text_testrun.shape"
   ]
  },
  {
   "cell_type": "code",
   "execution_count": null,
   "metadata": {},
   "outputs": [],
   "source": [
    "# text_dictionary\n",
    "with open('Data/text.dictionary', 'rb') as text_dictionary_file: #for S2S and S2S+GAN\n",
    "    text_vocabulary = pickle.load(text_dictionary_file)\n",
    "# headline_dictionary\n",
    "with open('Data/headline.dictionary', 'rb') as headline_dictionary_file: #for S2S and S2S+GAN\n",
    "    headline_vocabulary = pickle.load(headline_dictionary_file)\n"
   ]
  },
  {
   "cell_type": "markdown",
   "metadata": {
    "id": "h0IFb6Q5FbVo"
   },
   "source": [
    "###Set parameters"
   ]
  },
  {
   "cell_type": "code",
   "execution_count": 38,
   "metadata": {
    "id": "8bVjt8V2ilnz"
   },
   "outputs": [],
   "source": [
    "### Set parameters\n",
    "input_size = int(len(text_vocabulary.index2word.keys()))\n",
    "output_size = int(len(headline_vocabulary.index2word.keys()))\n",
    "\n",
    "enc_emb_size = 200\n",
    "dec_emb_size = 200\n",
    "hid_size = 256\n",
    "\n",
    "n_layers = 2\n",
    "enc_dropout = 0.1\n",
    "dec_dropout = 0.1"
   ]
  },
  {
   "cell_type": "markdown",
   "metadata": {
    "id": "I4l3mgeLFjDL"
   },
   "source": [
    "###Encoder and Decoder"
   ]
  },
  {
   "cell_type": "code",
   "execution_count": 39,
   "metadata": {
    "id": "7eM5hKQlio96"
   },
   "outputs": [],
   "source": [
    "class Encoder1(nn.Module):\n",
    "    def __init__(self, input_size, emb_size, hid_size, n_layers, dropout, embeddings):\n",
    "        super().__init__()\n",
    "        self.emb_size = emb_size\n",
    "        self.hid_size = hid_size\n",
    "        self.input_size = input_size\n",
    "        self.n_layers = n_layers\n",
    "        self.dropout = dropout\n",
    "\n",
    "        self.embedding = embeddings\n",
    "        self.lstm = nn.LSTM(emb_size, hid_size, n_layers, dropout=dropout)\n",
    "        self.linear = nn.Linear\n",
    "        \n",
    "#         self.lstm = nn.LSTM(emb_size, hid_size, n_layers, dropout=dropout, bidirectional = True)\n",
    "        \n",
    "\n",
    "    def forward(self, x, x_length):\n",
    "        embedded = torch.tensor([[self.embedding[i] for i in x[:, seq]]for seq in range(x.shape[1])]).permute(1, 0, 2)\n",
    "        embedded = nn.utils.rnn.pack_padded_sequence(embedded, x_length.numpy(),batch_first=False)\n",
    "        outputs, (hidden, cell) = self.lstm(embedded)\n",
    "        outputs, _ = nn.utils.rnn.pad_packed_sequence(outputs)\n",
    "        return hidden, cell"
   ]
  },
  {
   "cell_type": "code",
   "execution_count": 40,
   "metadata": {
    "id": "J_wnwE2OiyB-"
   },
   "outputs": [],
   "source": [
    "class Decoder(nn.Module):\n",
    "    def __init__(self, output_size, emb_size, hid_size, n_layers, dropout, embeddings):\n",
    "        super().__init__()\n",
    "        self.emb_size = emb_size\n",
    "        self.hid_size = hid_size\n",
    "        self.output_size = output_size\n",
    "        self.n_layers = n_layers\n",
    "        self.dropout = dropout\n",
    "\n",
    "        self.embedding = embeddings\n",
    "        self.lstm = nn.LSTM(emb_size, hid_size, n_layers, dropout=dropout)\n",
    "        self.out = nn.Linear(hid_size, output_size, bias = True)\n",
    "\n",
    "    def forward(self, output, hidden, cell):\n",
    "        embedded = torch.tensor([self.embedding[x] for x in output]).float().unsqueeze(0)\n",
    "\n",
    "        outputs, (hidden, cell) = self.lstm(embedded, (hidden, cell))\n",
    "        \n",
    "        prediction = self.out(outputs.squeeze(0))\n",
    "        return prediction, hidden, cell"
   ]
  },
  {
   "cell_type": "markdown",
   "metadata": {
    "id": "GxP3yaJkFr3N"
   },
   "source": [
    "###Sequence to Sequence"
   ]
  },
  {
   "cell_type": "code",
   "execution_count": 41,
   "metadata": {
    "id": "sVkpA_owjS6I"
   },
   "outputs": [],
   "source": [
    "class Seq2Seq1(nn.Module):\n",
    "    def __init__(self, encoder: Encoder1, decoder: Decoder, device: torch.device, embeddings):\n",
    "        super().__init__()\n",
    "        self.embedding = embeddings\n",
    "        self.encoder = encoder\n",
    "        self.decoder = decoder\n",
    "        self.device = device\n",
    "\n",
    "    def forward(self, text_batch, text_batch_len, headline_batch, teacher_forcing_ratio: float=0.5):\n",
    "        max_len, batch_size = headline_batch.shape\n",
    "        headline_vocab_size = self.decoder.output_size\n",
    "\n",
    "        # tensor to store decoder's output\n",
    "        outputs = torch.zeros(max_len, batch_size, headline_vocab_size).to(self.device)\n",
    "\n",
    "        # last hidden & cell state of the encoder is used as the decoder's initial hidden state\n",
    "        hidden, cell = self.encoder(text_batch, text_batch_len)\n",
    "        \n",
    "        hl_batch_i = headline_batch[0]\n",
    "        \n",
    "        for i in range(1, max_len):\n",
    "            prediction, hidden, cell = self.decoder(hl_batch_i, hidden, cell)\n",
    "            outputs[i] = prediction\n",
    "\n",
    "            if random.random() < teacher_forcing_ratio:\n",
    "                hl_batch_i = headline_batch[i]\n",
    "            else:\n",
    "                hl_batch_i = prediction.argmax(1)\n",
    "\n",
    "        return outputs"
   ]
  },
  {
   "cell_type": "markdown",
   "metadata": {
    "id": "t2y7gERAJEeL"
   },
   "source": [
    "###call for Seq2Seq"
   ]
  },
  {
   "cell_type": "code",
   "execution_count": 42,
   "metadata": {
    "colab": {
     "base_uri": "https://localhost:8080/"
    },
    "id": "hTI__k06jV-g",
    "outputId": "f3f92b9a-9dcb-4ace-d097-9752c9ad8363"
   },
   "outputs": [
    {
     "data": {
      "text/plain": [
       "Seq2Seq1(\n",
       "  (encoder): Encoder1(\n",
       "    (lstm): LSTM(200, 256, num_layers=2, dropout=0.1)\n",
       "  )\n",
       "  (decoder): Decoder(\n",
       "    (lstm): LSTM(200, 256, num_layers=2, dropout=0.1)\n",
       "    (out): Linear(in_features=256, out_features=18431, bias=True)\n",
       "  )\n",
       ")"
      ]
     },
     "execution_count": 42,
     "metadata": {},
     "output_type": "execute_result"
    }
   ],
   "source": [
    "encoder = Encoder1(input_size, enc_emb_size, hid_size, n_layers, enc_dropout, pre_train_weight)\n",
    "decoder = Decoder(output_size, dec_emb_size, hid_size, n_layers, dec_dropout, pre_train_weight_head)\n",
    "seq2seq = Seq2Seq1(encoder, decoder, device, pre_train_weight)\n",
    "seq2seq"
   ]
  },
  {
   "cell_type": "markdown",
   "metadata": {
    "id": "hvBiIQouFxID"
   },
   "source": [
    "###Training and Evaluate"
   ]
  },
  {
   "cell_type": "code",
   "execution_count": 43,
   "metadata": {
    "id": "m_k3ng0KjYDP"
   },
   "outputs": [],
   "source": [
    "optimizer = optim.Adam(seq2seq.parameters())\n",
    "\n",
    "criterion = nn.CrossEntropyLoss(ignore_index = 0) "
   ]
  },
  {
   "cell_type": "code",
   "execution_count": 44,
   "metadata": {
    "id": "ntNAxemHjapw"
   },
   "outputs": [],
   "source": [
    "def train1(seq2seq, trainloader, optimizer, criterion):\n",
    "    seq2seq.train()\n",
    "\n",
    "    epoch_loss = 0\n",
    "    for text_batch, hl_batch, text_len, hl_len in trainloader:\n",
    "        text_batch = torch.transpose(text_batch, 0, 1)\n",
    "        hl_batch = torch.transpose(hl_batch, 0, 1)\n",
    "        \n",
    "        ## send to cuda\n",
    "        #text_batch = text_batch.to(device)\n",
    "        #hl_batch = hl_batch.to(device)\n",
    "        optimizer.zero_grad()\n",
    "        \n",
    "        text_batch = text_batch[:text_len.max()].to(device)\n",
    "        hl_batch = hl_batch[:hl_len.max()].to(device)\n",
    "                                 \n",
    "        outputs = seq2seq(text_batch, text_len, hl_batch)\n",
    "        outputs_flatten = outputs[1:].view(-1, outputs.shape[-1])\n",
    "        \n",
    "        hl_flatten = hl_batch[1:].reshape(-1)\n",
    "        loss = criterion(outputs_flatten, hl_flatten)\n",
    "\n",
    "        loss.backward()\n",
    "        optimizer.step()\n",
    "\n",
    "        epoch_loss += loss.item()\n",
    "\n",
    "    return epoch_loss / len(trainloader)"
   ]
  },
  {
   "cell_type": "code",
   "execution_count": 45,
   "metadata": {
    "id": "DV0XTP9EjdSJ"
   },
   "outputs": [],
   "source": [
    "def evaluate1(seq2seq, trainloader, criterion):\n",
    "    seq2seq.eval()\n",
    "\n",
    "    epoch_loss = 0\n",
    "    with torch.no_grad():\n",
    "        for text_batch, hl_batch, text_len, hl_len in trainloader:\n",
    "            text_batch = torch.transpose(text_batch, 0, 1)\n",
    "            hl_batch = torch.transpose(hl_batch, 0, 1)\n",
    "\n",
    "            ## send to cuda\n",
    "            #text_batch = text_batch.to(device)\n",
    "            #hl_batch = hl_batch.to(device)\n",
    "            \n",
    "            text_batch = text_batch[:text_len.max()].to(device)\n",
    "            hl_batch = hl_batch[:hl_len.max()].to(device)\n",
    "            # teacher forcing not used\n",
    "            outputs = seq2seq(text_batch, text_len, hl_batch, teacher_forcing_ratio=0) \n",
    "            outputs_flatten = outputs[1:].view(-1, outputs.shape[-1])\n",
    "            \n",
    "            hl_flatten = hl_batch[1:].reshape(-1)\n",
    "            loss = criterion(outputs_flatten, hl_flatten)\n",
    "            epoch_loss += loss.item()\n",
    "\n",
    "    return epoch_loss / len(trainloader)"
   ]
  },
  {
   "cell_type": "code",
   "execution_count": 46,
   "metadata": {
    "id": "LWNyivfZjgDk"
   },
   "outputs": [],
   "source": [
    "def epoch_time(start_time, end_time):\n",
    "    elapsed_time = end_time - start_time\n",
    "    elapsed_mins = int(elapsed_time / 60)\n",
    "    elapsed_secs = int(elapsed_time - (elapsed_mins * 60))\n",
    "    return elapsed_mins, elapsed_secs"
   ]
  },
  {
   "cell_type": "code",
   "execution_count": 47,
   "metadata": {
    "colab": {
     "base_uri": "https://localhost:8080/"
    },
    "id": "ticNGkSjjiQC",
    "outputId": "2e60f60a-914d-4de1-a099-3767a12eca81",
    "scrolled": true
   },
   "outputs": [
    {
     "name": "stdout",
     "output_type": "stream",
     "text": [
      "Epoch: 01 | Time: 86m 42s\n",
      "\tTrain Loss: 6.180 | Train PPL: 483.218\n",
      "\t Val. Loss: 6.107 |  Val. PPL: 449.108\n",
      "Epoch: 02 | Time: 80m 31s\n",
      "\tTrain Loss: 5.810 | Train PPL: 333.469\n",
      "\t Val. Loss: 6.053 |  Val. PPL: 425.283\n",
      "Epoch: 03 | Time: 77m 41s\n",
      "\tTrain Loss: 5.604 | Train PPL: 271.536\n",
      "\t Val. Loss: 5.954 |  Val. PPL: 385.260\n",
      "Epoch: 04 | Time: 76m 43s\n",
      "\tTrain Loss: 5.348 | Train PPL: 210.181\n",
      "\t Val. Loss: 5.797 |  Val. PPL: 329.258\n",
      "Epoch: 05 | Time: 74m 23s\n",
      "\tTrain Loss: 5.156 | Train PPL: 173.405\n",
      "\t Val. Loss: 5.740 |  Val. PPL: 311.046\n",
      "Epoch: 06 | Time: 74m 22s\n",
      "\tTrain Loss: 4.993 | Train PPL: 147.330\n",
      "\t Val. Loss: 5.701 |  Val. PPL: 299.087\n",
      "Epoch: 07 | Time: 74m 41s\n",
      "\tTrain Loss: 4.848 | Train PPL: 127.431\n",
      "\t Val. Loss: 5.636 |  Val. PPL: 280.362\n",
      "Epoch: 08 | Time: 78m 19s\n",
      "\tTrain Loss: 4.704 | Train PPL: 110.419\n",
      "\t Val. Loss: 5.628 |  Val. PPL: 278.098\n",
      "Epoch: 09 | Time: 80m 56s\n",
      "\tTrain Loss: 4.585 | Train PPL:  98.006\n",
      "\t Val. Loss: 5.606 |  Val. PPL: 272.053\n",
      "Epoch: 10 | Time: 77m 4s\n",
      "\tTrain Loss: 4.494 | Train PPL:  89.452\n",
      "\t Val. Loss: 5.605 |  Val. PPL: 271.658\n"
     ]
    }
   ],
   "source": [
    "num_epoch = 10\n",
    "best_valid_loss = float('inf')\n",
    "e11 = []\n",
    "e21 = []\n",
    "\n",
    "for epoch in range(num_epoch):    \n",
    "    start_time = time.time()\n",
    "    train_loss = train1(seq2seq, trainloader, optimizer, criterion)\n",
    "    e11.append(train_loss)\n",
    "    valid_loss = evaluate1(seq2seq, devloader, criterion)\n",
    "    e21.append(valid_loss)\n",
    "    end_time = time.time()\n",
    "\n",
    "    epoch_mins, epoch_secs = epoch_time(start_time, end_time)\n",
    "\n",
    "    if valid_loss < best_valid_loss:\n",
    "        best_valid_loss = valid_loss\n",
    "        torch.save(seq2seq.state_dict(), 'tut1-model2.pt')\n",
    "\n",
    "    # it's easier to see a change in perplexity between epoch as it's an exponential\n",
    "    # of the loss, hence the scale of the measure is much bigger\n",
    "    print(f'Epoch: {epoch+1:02} | Time: {epoch_mins}m {epoch_secs}s')\n",
    "    print(f'\\tTrain Loss: {train_loss:.3f} | Train PPL: {math.exp(train_loss):7.3f}')\n",
    "    print(f'\\t Val. Loss: {valid_loss:.3f} |  Val. PPL: {math.exp(valid_loss):7.3f}')"
   ]
  },
  {
   "cell_type": "code",
   "execution_count": 48,
   "metadata": {},
   "outputs": [
    {
     "name": "stdout",
     "output_type": "stream",
     "text": [
      "Epoch: 11 | Time: 81m 6s\n",
      "\tTrain Loss: 4.398 | Train PPL:  81.280\n",
      "\t Val. Loss: 5.612 |  Val. PPL: 273.708\n",
      "Epoch: 12 | Time: 83m 3s\n",
      "\tTrain Loss: 4.312 | Train PPL:  74.614\n",
      "\t Val. Loss: 5.602 |  Val. PPL: 271.084\n"
     ]
    }
   ],
   "source": [
    "for epoch in range(10,12):    \n",
    "    start_time = time.time()\n",
    "    train_loss = train1(seq2seq, trainloader, optimizer, criterion)\n",
    "    e11.append(train_loss)\n",
    "    valid_loss = evaluate1(seq2seq, devloader, criterion)\n",
    "    e21.append(valid_loss)\n",
    "    end_time = time.time()\n",
    "\n",
    "    epoch_mins, epoch_secs = epoch_time(start_time, end_time)\n",
    "\n",
    "    if valid_loss < best_valid_loss:\n",
    "        best_valid_loss = valid_loss\n",
    "        torch.save(seq2seq.state_dict(), 'tut1-model2.pt')\n",
    "\n",
    "    # it's easier to see a change in perplexity between epoch as it's an exponential\n",
    "    # of the loss, hence the scale of the measure is much bigger\n",
    "    print(f'Epoch: {epoch+1:02} | Time: {epoch_mins}m {epoch_secs}s')\n",
    "    print(f'\\tTrain Loss: {train_loss:.3f} | Train PPL: {math.exp(train_loss):7.3f}')\n",
    "    print(f'\\t Val. Loss: {valid_loss:.3f} |  Val. PPL: {math.exp(valid_loss):7.3f}')"
   ]
  },
  {
   "cell_type": "code",
   "execution_count": 62,
   "metadata": {},
   "outputs": [
    {
     "data": {
      "text/plain": [
       "<All keys matched successfully>"
      ]
     },
     "execution_count": 62,
     "metadata": {},
     "output_type": "execute_result"
    }
   ],
   "source": [
    "seq2seq.load_state_dict(torch.load('tut1-model2.pt'))#Call the model with the best loss of validation"
   ]
  },
  {
   "cell_type": "markdown",
   "metadata": {
    "id": "tqDghhU7F5Ut"
   },
   "source": [
    "###Outputs"
   ]
  },
  {
   "cell_type": "markdown",
   "metadata": {
    "id": "v767Mo6YGdLI"
   },
   "source": [
    "Note:\n",
    "1.   Embedding name for the training vocabulary: pre_train_weight.\n",
    "2.   seq2seq(text_batch, text_len, hl_batch, teacher_forcing_ratio=0)\\\n",
    "text_batch = [max_length_text(each batch), batch_size]\\\n",
    "text_len = real length of each text in the batch (a list)\\\n",
    "hl_batch = [max_length_hl(each batch), batch_size]\n",
    "3.   Outputs is a list with outputs of S2S as the element.\n",
    "     [max_length_hl(each batch), batch_size, vocabulary_size]\n",
    "4.   Predict is a list with prediction of each batch.\n",
    "     [max_length_hl, batch_size]\n",
    "5.   e1 and e2 are the collection of the training loss and validation loss.\n",
    "\n"
   ]
  },
  {
   "cell_type": "code",
   "execution_count": 56,
   "metadata": {},
   "outputs": [
    {
     "data": {
      "text/plain": [
       "<matplotlib.legend.Legend at 0x7f916c1a48e0>"
      ]
     },
     "execution_count": 56,
     "metadata": {},
     "output_type": "execute_result"
    },
    {
     "data": {
      "image/png": "[encoded data removed]",
      "text/plain": [
       "<Figure size 432x288 with 1 Axes>"
      ]
     },
     "metadata": {
      "needs_background": "light"
     },
     "output_type": "display_data"
    }
   ],
   "source": [
    "n = range(1,13)\n",
    "plt.plot(n,e11)\n",
    "plt.plot(n,e21)\n",
    "plt.legend(['train loss','validation loss'])\n",
    "#plt.savefig('Seq-to-Seq256.jpg')"
   ]
  },
  {
   "cell_type": "code",
   "execution_count": 57,
   "metadata": {},
   "outputs": [],
   "source": [
    "e11 = np.array(e11)\n",
    "np.save('train loss 256.npy', e11)"
   ]
  },
  {
   "cell_type": "code",
   "execution_count": 58,
   "metadata": {},
   "outputs": [],
   "source": [
    "e21 = np.array(e21)\n",
    "np.save('val loss 256.npy', e21)"
   ]
  },
  {
   "cell_type": "code",
   "execution_count": 63,
   "metadata": {},
   "outputs": [],
   "source": [
    "outputs = []\n",
    "target = []\n",
    "for text_batch, hl_batch, text_len, headline_len in testloader:\n",
    "    text_batch = torch.transpose(text_batch, 0, 1) \n",
    "    hl_batch = torch.transpose(hl_batch, 0, 1)\n",
    "    text_batch = text_batch[:text_len.max()]\n",
    "    hl_batch = hl_batch[:headline_len.max()]\n",
    "    with torch.no_grad():\n",
    "        a = seq2seq(text_batch, text_len, hl_batch, teacher_forcing_ratio=0)\n",
    "        a = a.argmax(2)\n",
    "    for i in range(a.shape[1]):\n",
    "        outputs.append(' '.join([headline_vocabulary.index2word[j] for j in a[:,i].numpy() if (j != 0) & (j != 1) & (j != 2)]))\n",
    "        target.append(' '.join([headline_vocabulary.index2word[j] for j in hl_batch[:,i].numpy() if (j != 0) & (j != 1) & (j != 2)])) "
   ]
  },
  {
   "cell_type": "code",
   "execution_count": 66,
   "metadata": {},
   "outputs": [],
   "source": [
    "rouge = Rouge()\n",
    "r1 = [rouge.get_scores(o, t)[0][\"rouge-1\"]['r'] for o, t in zip(outputs, target)]\n",
    "r2 = [rouge.get_scores(o, t)[0][\"rouge-2\"]['r'] for o, t in zip(outputs, target)]"
   ]
  },
  {
   "cell_type": "code",
   "execution_count": 67,
   "metadata": {},
   "outputs": [],
   "source": [
    "rouge1 = np.array(r1).mean()\n",
    "rouge2 = np.array(r2).mean()"
   ]
  },
  {
   "cell_type": "code",
   "execution_count": 68,
   "metadata": {},
   "outputs": [
    {
     "data": {
      "text/plain": [
       "(0.13478372918700593, 0.030525662924277365)"
      ]
     },
     "execution_count": 68,
     "metadata": {},
     "output_type": "execute_result"
    }
   ],
   "source": [
    "rouge1,rouge2"
   ]
  },
  {
   "cell_type": "code",
   "execution_count": null,
   "metadata": {},
   "outputs": [],
   "source": []
  }
 ],
 "metadata": {
  "colab": {
   "collapsed_sections": [
    "yzfNmKuRieQ5"
   ],
   "name": "Untitled5.ipynb",
   "provenance": []
  },
  "kernelspec": {
   "display_name": "Python 3",
   "language": "python",
   "name": "python3"
  },
  "language_info": {
   "codemirror_mode": {
    "name": "ipython",
    "version": 3
   },
   "file_extension": ".py",
   "mimetype": "text/x-python",
   "name": "python",
   "nbconvert_exporter": "python",
   "pygments_lexer": "ipython3",
   "version": "3.8.3"
  }
 },
 "nbformat": 4,
 "nbformat_minor": 1
}

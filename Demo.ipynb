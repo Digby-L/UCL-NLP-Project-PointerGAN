{
 "cells": [
  {
   "cell_type": "code",
   "execution_count": 2,
   "metadata": {},
   "outputs": [],
   "source": [
    "import os\n",
    "import sys\n",
    "import time\n",
    "import numpy as np \n",
    "import pandas as pd\n",
    "import gc\n",
    "import matplotlib.pyplot as plt\n",
    "import re\n",
    "import unicodedata\n",
    "import nltk\n",
    "from nltk.tokenize.toktok import ToktokTokenizer\n",
    "import json\n",
    "import pickle\n",
    "from nltk.stem import PorterStemmer\n",
    "from sklearn.model_selection import train_test_split\n",
    "from nltk import sent_tokenize\n",
    "import torch.nn.functional as F\n",
    "import matplotlib.pyplot as plt\n",
    "from rouge import Rouge\n",
    "\n",
    "\n",
    "import math\n",
    "import os\n",
    "import random\n",
    "import string\n",
    "\n",
    "# Pytorch library for training\n",
    "import torch\n",
    "from torch import optim\n",
    "\n",
    "import torch.nn as nn\n",
    "import torch.nn.functional as F\n",
    "from torch.nn.utils.rnn import pack_padded_sequence, pad_packed_sequence"
   ]
  },
  {
   "cell_type": "code",
   "execution_count": 33,
   "metadata": {},
   "outputs": [],
   "source": [
    "device = torch.device(\"cuda\" if torch.cuda.is_available() else \"cpu\")"
   ]
  },
  {
   "cell_type": "markdown",
   "metadata": {},
   "source": [
    "Vocabulary"
   ]
  },
  {
   "cell_type": "code",
   "execution_count": 12,
   "metadata": {},
   "outputs": [],
   "source": [
    "class Vocabulary:\n",
    "    PAD_token = 0   # Used for padding short sentences\n",
    "    SOS_token = 1   # Start-of-sentence token\n",
    "    EOS_token = 2   # End-of-sentence token\n",
    "    UNK_token = 3   # Out-of-vocabulary token\n",
    "\n",
    "    def __init__(self, name):\n",
    "        self.name = name\n",
    "        self.word2index = {\"pad\":0, \"sos\":1, \"eos\":2, \"unk\":3}\n",
    "        self.word2count = {\"pad\":0, \"sos\":0, \"eos\":0, \"unk\":0}              \n",
    "        self.index2word = {0: \"pad\", 1: \"sos\", 2: \"eos\", 3: \"unk\"}\n",
    "        self.num_words = 4\n",
    "        self.num_sentences = 0\n",
    "        self.longest_sentence = 0\n",
    "\n",
    "    def add_word(self, word):\n",
    "        if word not in self.word2index:\n",
    "            self.word2index[word] = self.num_words\n",
    "            self.word2count[word] = 1\n",
    "            self.index2word[self.num_words] = word\n",
    "            self.num_words += 1\n",
    "        else:\n",
    "            self.word2count[word] += 1\n",
    "            \n",
    "    def add_sentence(self, sentence):\n",
    "        sentence_len = 0\n",
    "        for word in sentence:           \n",
    "            sentence_len += 1\n",
    "            self.add_word(word)\n",
    "        if sentence_len > self.longest_sentence:\n",
    "            self.longest_sentence = sentence_len\n",
    "        self.num_sentences += 1\n",
    "\n",
    "    def to_word(self, index):\n",
    "        return self.index2word[index]\n",
    "\n",
    "    def to_index(self, word):\n",
    "        return self.word2index[word]"
   ]
  },
  {
   "cell_type": "code",
   "execution_count": 66,
   "metadata": {},
   "outputs": [],
   "source": [
    "# text_dictionary\n",
    "with open('Data_for_demo/text.dictionary', 'rb') as text_dictionary_file: #for S2S\n",
    "    text_vocabulary = pickle.load(text_dictionary_file)\n",
    "# headline_dictionary\n",
    "with open('Data_for_demo/headline.dictionary', 'rb') as headline_dictionary_file: #for S2S\n",
    "    headline_vocabulary = pickle.load(headline_dictionary_file)\n"
   ]
  },
  {
   "cell_type": "code",
   "execution_count": 168,
   "metadata": {},
   "outputs": [],
   "source": [
    "# text_dictionary\n",
    "with open('Data_for_demo/text 1000.dictionary', 'rb') as text_dictionary_file: #for S2S+GAN\n",
    "    text_vocabulary1 = pickle.load(text_dictionary_file)\n",
    "# headline_dictionary\n",
    "with open('Data_for_demo/headline 1000.dictionary', 'rb') as headline_dictionary_file: #for S2S+GAN\n",
    "    headline_vocabulary1 = pickle.load(headline_dictionary_file)"
   ]
  },
  {
   "cell_type": "code",
   "execution_count": 16,
   "metadata": {},
   "outputs": [
    {
     "data": {
      "text/plain": [
       "(57237, 18431)"
      ]
     },
     "execution_count": 16,
     "metadata": {},
     "output_type": "execute_result"
    }
   ],
   "source": [
    "len(text_vocabulary.index2word), len(headline_vocabulary.index2word)"
   ]
  },
  {
   "cell_type": "code",
   "execution_count": 169,
   "metadata": {},
   "outputs": [
    {
     "data": {
      "text/plain": [
       "(7242, 1593)"
      ]
     },
     "execution_count": 169,
     "metadata": {},
     "output_type": "execute_result"
    }
   ],
   "source": [
    "len(text_vocabulary1.index2word), len(headline_vocabulary1.index2word)"
   ]
  },
  {
   "cell_type": "markdown",
   "metadata": {},
   "source": [
    "Embedding"
   ]
  },
  {
   "cell_type": "code",
   "execution_count": 18,
   "metadata": {},
   "outputs": [],
   "source": [
    "# Embeddings for the text dictionry\n",
    "pre_train_weight = np.load('Data_for_demo/embedding.npy') #for S2S\n",
    "\n",
    "# Embeddings for the headline dictionary\n",
    "pre_train_weight_head = np.load('Data_for_demo/embedding_headline.npy') #for S2S"
   ]
  },
  {
   "cell_type": "code",
   "execution_count": 170,
   "metadata": {},
   "outputs": [],
   "source": [
    "# Embeddings for the text dictionry\n",
    "pre_train_weight1 = np.load('Data_for_demo/embedding 1000.npy') #for S2S+GAN\n",
    "\n",
    "# Embeddings for the headline dictionary\n",
    "pre_train_weight_head1 = np.load('Data_for_demo/embedding_headline 1000.npy') #for S2S+GAN"
   ]
  },
  {
   "cell_type": "code",
   "execution_count": 19,
   "metadata": {},
   "outputs": [
    {
     "data": {
      "text/plain": [
       "((57237, 200), (18431, 200))"
      ]
     },
     "execution_count": 19,
     "metadata": {},
     "output_type": "execute_result"
    }
   ],
   "source": [
    "pre_train_weight.shape, pre_train_weight_head.shape"
   ]
  },
  {
   "cell_type": "code",
   "execution_count": 171,
   "metadata": {},
   "outputs": [
    {
     "data": {
      "text/plain": [
       "((7242, 200), (1593, 200))"
      ]
     },
     "execution_count": 171,
     "metadata": {},
     "output_type": "execute_result"
    }
   ],
   "source": [
    "pre_train_weight1.shape, pre_train_weight_head1.shape"
   ]
  },
  {
   "cell_type": "markdown",
   "metadata": {},
   "source": [
    "Test data"
   ]
  },
  {
   "cell_type": "code",
   "execution_count": 38,
   "metadata": {},
   "outputs": [],
   "source": [
    "## Set batch size and split data after padding to batches\n",
    "def batch_dataloader(data, Batch_size):\n",
    "    data_dataloader = torch.utils.data.DataLoader(data, batch_size=Batch_size, shuffle=False, num_workers=0)\n",
    "#     for i in data_dataloader:\n",
    "#         i = torch.transpose(i, 0 ,1)\n",
    "#         print(data_dataloader)\n",
    "    \n",
    "    return data_dataloader"
   ]
  },
  {
   "cell_type": "code",
   "execution_count": 39,
   "metadata": {},
   "outputs": [],
   "source": [
    "testdata = torch.load('Data_for_demo/testdata_zip.pt') #for S2S"
   ]
  },
  {
   "cell_type": "code",
   "execution_count": 174,
   "metadata": {},
   "outputs": [],
   "source": [
    "testdata1 = torch.load('Data_for_demo/testdata_zip1000.pt') #for S2S+GAN"
   ]
  },
  {
   "cell_type": "code",
   "execution_count": 40,
   "metadata": {},
   "outputs": [],
   "source": [
    "testloader = batch_dataloader(testdata, 30) #for S2S and S2S+GAN"
   ]
  },
  {
   "cell_type": "code",
   "execution_count": 178,
   "metadata": {},
   "outputs": [],
   "source": [
    "testloader1 = batch_dataloader(testdata1, 2)#for pgn"
   ]
  },
  {
   "cell_type": "markdown",
   "metadata": {},
   "source": [
    "Parameters"
   ]
  },
  {
   "cell_type": "code",
   "execution_count": 152,
   "metadata": {},
   "outputs": [],
   "source": [
    "input_size = int(len(text_vocabulary.index2word.keys()))\n",
    "output_size = int(len(headline_vocabulary.index2word.keys()))\n",
    "\n",
    "enc_emb_size = 200\n",
    "dec_emb_size = 200\n",
    "hid_size = 128\n",
    "\n",
    "n_layers = 2\n",
    "enc_dropout = 0.1\n",
    "dec_dropout = 0.1"
   ]
  },
  {
   "cell_type": "markdown",
   "metadata": {},
   "source": [
    "Seq-to-Seq"
   ]
  },
  {
   "cell_type": "code",
   "execution_count": 96,
   "metadata": {},
   "outputs": [],
   "source": [
    "from S2S import *"
   ]
  },
  {
   "cell_type": "markdown",
   "metadata": {},
   "source": [
    "Glove embedding"
   ]
  },
  {
   "cell_type": "code",
   "execution_count": 121,
   "metadata": {},
   "outputs": [
    {
     "data": {
      "text/plain": [
       "Seq2Seq1(\n",
       "  (encoder): Encoder1(\n",
       "    (lstm): LSTM(200, 128, num_layers=2, dropout=0.1)\n",
       "  )\n",
       "  (decoder): Decoder1(\n",
       "    (lstm): LSTM(200, 128, num_layers=2, dropout=0.1)\n",
       "    (out): Linear(in_features=128, out_features=18431, bias=True)\n",
       "  )\n",
       ")"
      ]
     },
     "execution_count": 121,
     "metadata": {},
     "output_type": "execute_result"
    }
   ],
   "source": [
    "encoder = Encoder1(input_size, enc_emb_size, hid_size, n_layers, enc_dropout, pre_train_weight)\n",
    "decoder = Decoder1(output_size, dec_emb_size, hid_size, n_layers, dec_dropout, pre_train_weight_head)\n",
    "seq2seq = Seq2Seq1(encoder, decoder, device, pre_train_weight)\n",
    "seq2seq"
   ]
  },
  {
   "cell_type": "code",
   "execution_count": 122,
   "metadata": {},
   "outputs": [
    {
     "data": {
      "text/plain": [
       "<All keys matched successfully>"
      ]
     },
     "execution_count": 122,
     "metadata": {},
     "output_type": "execute_result"
    }
   ],
   "source": [
    "seq2seq.load_state_dict(torch.load('Model/tut1-model.pt'))#Call the model with the best loss of validation"
   ]
  },
  {
   "cell_type": "code",
   "execution_count": 123,
   "metadata": {},
   "outputs": [],
   "source": [
    "outputs = []\n",
    "target = []\n",
    "for text_batch, hl_batch, text_len, headline_len in testloader:\n",
    "    text_batch = torch.transpose(text_batch, 0, 1) \n",
    "    hl_batch = torch.transpose(hl_batch, 0, 1)\n",
    "    text_batch = text_batch[:text_len.max()]\n",
    "    hl_batch = hl_batch[:headline_len.max()]\n",
    "    with torch.no_grad():\n",
    "        a = seq2seq(text_batch, text_len, hl_batch, teacher_forcing_ratio=0)\n",
    "        a = a.argmax(2)\n",
    "    for i in range(a.shape[1]):\n",
    "        outputs.append(' '.join([headline_vocabulary.index2word[j] for j in a[:,i].numpy() if (j != 0) & (j != 1) & (j != 2)]))\n",
    "        target.append(' '.join([headline_vocabulary.index2word[j] for j in hl_batch[:,i].numpy() if (j != 0) & (j != 1) & (j != 2)])) "
   ]
  },
  {
   "cell_type": "code",
   "execution_count": 124,
   "metadata": {},
   "outputs": [],
   "source": [
    "rouge = Rouge()\n",
    "r1 = [rouge.get_scores(o, t)[0][\"rouge-1\"]['r'] for o, t in zip(outputs, target)]\n",
    "r2 = [rouge.get_scores(o, t)[0][\"rouge-2\"]['r'] for o, t in zip(outputs, target)]\n",
    "rl = [rouge.get_scores(o, t)[0][\"rouge-l\"]['r'] for o, t in zip(outputs, target)]"
   ]
  },
  {
   "cell_type": "code",
   "execution_count": 125,
   "metadata": {},
   "outputs": [],
   "source": [
    "rouge_11 = np.array(r1).mean()\n",
    "rouge_21 = np.array(r2).mean()\n",
    "rouge_l1 = np.array(rl).mean()"
   ]
  },
  {
   "cell_type": "code",
   "execution_count": 142,
   "metadata": {},
   "outputs": [],
   "source": [
    "trian1 = np.load('Data_for_demo/train loss 128.npy')\n",
    "val1 = np.load('Data_for_demo/val loss 128.npy')"
   ]
  },
  {
   "cell_type": "code",
   "execution_count": 143,
   "metadata": {},
   "outputs": [
    {
     "data": {
      "text/plain": [
       "Text(0.5, 1.0, 'Seq-to-Seq 128 with GloVe embedding')"
      ]
     },
     "execution_count": 143,
     "metadata": {},
     "output_type": "execute_result"
    },
    {
     "data": {
      "image/png": "[encoded data removed]",
      "text/plain": [
       "<Figure size 432x288 with 1 Axes>"
      ]
     },
     "metadata": {
      "needs_background": "light"
     },
     "output_type": "display_data"
    }
   ],
   "source": [
    "n = range(len(trian1))\n",
    "plt.plot(n,trian1)\n",
    "plt.plot(n,val1)\n",
    "plt.legend(['train loss','validation loss'])\n",
    "plt.title('Seq-to-Seq 128 with GloVe embedding')"
   ]
  },
  {
   "cell_type": "markdown",
   "metadata": {},
   "source": [
    "Hidden state with size 256 ('tut1-model2.pt')"
   ]
  },
  {
   "cell_type": "code",
   "execution_count": 149,
   "metadata": {},
   "outputs": [],
   "source": [
    "hid_size1 = 256"
   ]
  },
  {
   "cell_type": "code",
   "execution_count": 157,
   "metadata": {},
   "outputs": [
    {
     "data": {
      "text/plain": [
       "Seq2Seq1(\n",
       "  (encoder): Encoder1(\n",
       "    (lstm): LSTM(200, 256, num_layers=2, dropout=0.1)\n",
       "  )\n",
       "  (decoder): Decoder1(\n",
       "    (lstm): LSTM(200, 256, num_layers=2, dropout=0.1)\n",
       "    (out): Linear(in_features=256, out_features=18431, bias=True)\n",
       "  )\n",
       ")"
      ]
     },
     "execution_count": 157,
     "metadata": {},
     "output_type": "execute_result"
    }
   ],
   "source": [
    "encoder1 = Encoder1(input_size, enc_emb_size, hid_size1, n_layers, enc_dropout, pre_train_weight)\n",
    "decoder1 = Decoder1(output_size, dec_emb_size, hid_size1, n_layers, dec_dropout, pre_train_weight_head)\n",
    "seq2seq1 = Seq2Seq1(encoder1, decoder1, device, pre_train_weight)\n",
    "seq2seq1"
   ]
  },
  {
   "cell_type": "code",
   "execution_count": 158,
   "metadata": {},
   "outputs": [
    {
     "data": {
      "text/plain": [
       "<All keys matched successfully>"
      ]
     },
     "execution_count": 158,
     "metadata": {},
     "output_type": "execute_result"
    }
   ],
   "source": [
    "seq2seq1.load_state_dict(torch.load('Model/tut1-model2.pt'))#Call the model with the best loss of validation"
   ]
  },
  {
   "cell_type": "code",
   "execution_count": 161,
   "metadata": {},
   "outputs": [],
   "source": [
    "outputs2 = []\n",
    "for text_batch, hl_batch, text_len, headline_len in testloader:\n",
    "    text_batch = torch.transpose(text_batch, 0, 1) \n",
    "    hl_batch = torch.transpose(hl_batch, 0, 1)\n",
    "    text_batch = text_batch[:text_len.max()]\n",
    "    hl_batch = hl_batch[:headline_len.max()]\n",
    "    with torch.no_grad():\n",
    "        a = seq2seq1(text_batch, text_len, hl_batch, teacher_forcing_ratio=0)\n",
    "        a = a.argmax(2)\n",
    "    for i in range(a.shape[1]):\n",
    "        outputs2.append(' '.join([headline_vocabulary.index2word[j] for j in a[:,i].numpy() if (j != 0) & (j != 1) & (j != 2)]))"
   ]
  },
  {
   "cell_type": "code",
   "execution_count": 162,
   "metadata": {},
   "outputs": [],
   "source": [
    "r12 = [rouge.get_scores(o, t)[0][\"rouge-1\"]['r'] for o, t in zip(outputs2, target)]\n",
    "r22 = [rouge.get_scores(o, t)[0][\"rouge-2\"]['r'] for o, t in zip(outputs2, target)]\n",
    "rl2 = [rouge.get_scores(o, t)[0][\"rouge-l\"]['r'] for o, t in zip(outputs2, target)]"
   ]
  },
  {
   "cell_type": "code",
   "execution_count": 165,
   "metadata": {},
   "outputs": [],
   "source": [
    "rouge_13 = np.array(r12).mean()\n",
    "rouge_23 = np.array(r22).mean()\n",
    "rouge_l3 = np.array(rl2).mean()"
   ]
  },
  {
   "cell_type": "code",
   "execution_count": 155,
   "metadata": {},
   "outputs": [],
   "source": [
    "trian2 = np.load('Data_for_demo/train loss 256.npy')\n",
    "val2 = np.load('Data_for_demo/val loss 256.npy')"
   ]
  },
  {
   "cell_type": "code",
   "execution_count": 156,
   "metadata": {},
   "outputs": [
    {
     "data": {
      "text/plain": [
       "Text(0.5, 1.0, 'Seq-to-Seq 256 with GloVe embedding')"
      ]
     },
     "execution_count": 156,
     "metadata": {},
     "output_type": "execute_result"
    },
    {
     "data": {
      "image/png": "[encoded data removed]",
      "text/plain": [
       "<Figure size 432x288 with 1 Axes>"
      ]
     },
     "metadata": {
      "needs_background": "light"
     },
     "output_type": "display_data"
    }
   ],
   "source": [
    "n = range(len(trian2))\n",
    "plt.plot(n,trian2)\n",
    "plt.plot(n,val2)\n",
    "plt.legend(['train loss','validation loss'])\n",
    "plt.title('Seq-to-Seq 256 with GloVe embedding')"
   ]
  },
  {
   "cell_type": "markdown",
   "metadata": {},
   "source": [
    "nn.Embedding ('tut1-model2.pt') "
   ]
  },
  {
   "cell_type": "code",
   "execution_count": 127,
   "metadata": {},
   "outputs": [],
   "source": [
    "#S2Snn.txt obtained from Seq2SeqnnEmbedding.ipynb\n",
    "outputs1 = []\n",
    "f = open(\"Data_for_demo/S2Snn.txt\",\"r\")\n",
    "line = f.readlines()\n",
    "for a in line:\n",
    "    outputs1.append(a)"
   ]
  },
  {
   "cell_type": "code",
   "execution_count": 130,
   "metadata": {},
   "outputs": [],
   "source": [
    "r11 = [rouge.get_scores(o, t)[0][\"rouge-1\"]['r'] for o, t in zip(outputs1, target)]\n",
    "r21 = [rouge.get_scores(o, t)[0][\"rouge-2\"]['r'] for o, t in zip(outputs1, target)]\n",
    "rl1 = [rouge.get_scores(o, t)[0][\"rouge-l\"]['r'] for o, t in zip(outputs1, target)]"
   ]
  },
  {
   "cell_type": "code",
   "execution_count": 133,
   "metadata": {},
   "outputs": [],
   "source": [
    "rouge_12 = np.array(r11).mean()\n",
    "rouge_22 = np.array(r21).mean()\n",
    "rouge_l2 = np.array(rl1).mean()"
   ]
  },
  {
   "cell_type": "code",
   "execution_count": 146,
   "metadata": {},
   "outputs": [],
   "source": [
    "trian3 = np.load('Data_for_demo/train loss nn 128.npy')\n",
    "val3= np.load('Data_for_demo/val loss nn 128.npy')"
   ]
  },
  {
   "cell_type": "code",
   "execution_count": 147,
   "metadata": {},
   "outputs": [
    {
     "data": {
      "text/plain": [
       "Text(0.5, 1.0, 'Seq-to-Seq 128 with nn.embedding')"
      ]
     },
     "execution_count": 147,
     "metadata": {},
     "output_type": "execute_result"
    },
    {
     "data": {
      "image/png": "[encoded data removed]",
      "text/plain": [
       "<Figure size 432x288 with 1 Axes>"
      ]
     },
     "metadata": {
      "needs_background": "light"
     },
     "output_type": "display_data"
    }
   ],
   "source": [
    "n = range(len(trian3))\n",
    "plt.plot(n,trian3)\n",
    "plt.plot(n,val3)\n",
    "plt.legend(['train loss','validation loss'])\n",
    "plt.title('Seq-to-Seq 128 with nn.embedding')"
   ]
  },
  {
   "cell_type": "code",
   "execution_count": 167,
   "metadata": {},
   "outputs": [
    {
     "name": "stdout",
     "output_type": "stream",
     "text": [
      "Seq-to-Seq using Gloves embedding with hidden state size = 128.\n",
      "ROUGE-1: 13.273 on test data.\n",
      "ROUGE-2: 3.032 on test data.\n",
      "ROUGE-l: 13.033 on test data.\n",
      "============================================================\n",
      "Seq-to-Seq using nn.Embedding with hidden state size = 128.\n",
      "ROUGE-1: 11.328 on test data.\n",
      "ROUGE-2: 2.242 on test data.\n",
      "ROUGE-l: 11.058 on test data.\n",
      "============================================================\n",
      "Seq-to-Seq using Gloves embedding with hidden state size = 256.\n",
      "ROUGE-1: 13.376 on test data.\n",
      "ROUGE-2: 3.065 on test data.\n",
      "ROUGE-l: 13.123 on test data.\n"
     ]
    }
   ],
   "source": [
    "print('Seq-to-Seq using Gloves embedding with hidden state size = {:.0f}.'.format(hid_size))\n",
    "print('ROUGE-1: {:.3f} on test data.'.format(100*np.array(rouge_11)))\n",
    "print('ROUGE-2: {:.3f} on test data.'.format(100*np.array(rouge_21)))\n",
    "print('ROUGE-l: {:.3f} on test data.'.format(100*np.array(rouge_l1)))\n",
    "print('============================================================')\n",
    "print('Seq-to-Seq using nn.Embedding with hidden state size = {:.0f}.'.format(hid_size))\n",
    "print('ROUGE-1: {:.3f} on test data.'.format(100*np.array(rouge_12)))\n",
    "print('ROUGE-2: {:.3f} on test data.'.format(100*np.array(rouge_22)))\n",
    "print('ROUGE-l: {:.3f} on test data.'.format(100*np.array(rouge_l2)))\n",
    "print('============================================================')\n",
    "print('Seq-to-Seq using Gloves embedding with hidden state size = {:.0f}.'.format(hid_size1))\n",
    "print('ROUGE-1: {:.3f} on test data.'.format(100*np.array(rouge_13)))\n",
    "print('ROUGE-2: {:.3f} on test data.'.format(100*np.array(rouge_23)))\n",
    "print('ROUGE-l: {:.3f} on test data.'.format(100*np.array(rouge_l3)))"
   ]
  },
  {
   "cell_type": "markdown",
   "metadata": {},
   "source": [
    "Seq-to-Seq + GAN "
   ]
  },
  {
   "cell_type": "code",
   "execution_count": 184,
   "metadata": {},
   "outputs": [],
   "source": [
    "input_size = int(len(text_vocabulary1.index2word.keys()))\n",
    "output_size = 1386\n",
    "\n",
    "enc_emb_size = 200\n",
    "dec_emb_size = 200\n",
    "hid_size = 128\n",
    "\n",
    "n_layers = 2\n",
    "enc_dropout = 0.1\n",
    "dec_dropout = 0.1"
   ]
  },
  {
   "cell_type": "code",
   "execution_count": 185,
   "metadata": {},
   "outputs": [
    {
     "data": {
      "text/plain": [
       "Seq2Seq1(\n",
       "  (encoder): Encoder1(\n",
       "    (lstm): LSTM(200, 128, num_layers=2, dropout=0.1)\n",
       "  )\n",
       "  (decoder): Decoder1(\n",
       "    (lstm): LSTM(200, 128, num_layers=2, dropout=0.1)\n",
       "    (out): Linear(in_features=128, out_features=1386, bias=True)\n",
       "  )\n",
       ")"
      ]
     },
     "execution_count": 185,
     "metadata": {},
     "output_type": "execute_result"
    }
   ],
   "source": [
    "encoder2 = Encoder1(input_size, enc_emb_size, hid_size, n_layers, enc_dropout, pre_train_weight1)\n",
    "decoder2 = Decoder1(output_size, dec_emb_size, hid_size, n_layers, dec_dropout, pre_train_weight_head1)\n",
    "seq2seq2 = Seq2Seq1(encoder2, decoder2, device, pre_train_weight)\n",
    "seq2seq2"
   ]
  },
  {
   "cell_type": "code",
   "execution_count": 186,
   "metadata": {},
   "outputs": [
    {
     "data": {
      "text/plain": [
       "<All keys matched successfully>"
      ]
     },
     "execution_count": 186,
     "metadata": {},
     "output_type": "execute_result"
    }
   ],
   "source": [
    "seq2seq2.load_state_dict(torch.load('Model/model1.pt'))#Call the model with the best loss of validation"
   ]
  },
  {
   "cell_type": "code",
   "execution_count": 188,
   "metadata": {},
   "outputs": [],
   "source": [
    "outputs3 = []\n",
    "target3 = []\n",
    "for text_batch, hl_batch, text_len, headline_len in testloader1:\n",
    "    text_batch = torch.transpose(text_batch, 0, 1) \n",
    "    hl_batch = torch.transpose(hl_batch, 0, 1)\n",
    "    text_batch = text_batch[:text_len.max()]\n",
    "    hl_batch = hl_batch[:headline_len.max()]\n",
    "    with torch.no_grad():\n",
    "        a = seq2seq2(text_batch, text_len, hl_batch, teacher_forcing_ratio=0)\n",
    "        a = a.argmax(2)\n",
    "    for i in range(a.shape[1]):\n",
    "        outputs3.append(' '.join([headline_vocabulary1.index2word[j] for j in a[:,i].numpy() if (j != 0) & (j != 1) & (j != 2)]))\n",
    "        target3.append(' '.join([headline_vocabulary1.index2word[j] for j in hl_batch[:,i].numpy() if (j != 0) & (j != 1) & (j != 2)])) "
   ]
  },
  {
   "cell_type": "code",
   "execution_count": 189,
   "metadata": {},
   "outputs": [],
   "source": [
    "r13 = [rouge.get_scores(o, t)[0][\"rouge-1\"]['r'] for o, t in zip(outputs3, target3)]\n",
    "r23 = [rouge.get_scores(o, t)[0][\"rouge-2\"]['r'] for o, t in zip(outputs3, target3)]\n",
    "rl3 = [rouge.get_scores(o, t)[0][\"rouge-l\"]['r'] for o, t in zip(outputs3, target3)]"
   ]
  },
  {
   "cell_type": "code",
   "execution_count": 190,
   "metadata": {},
   "outputs": [],
   "source": [
    "rouge_14 = np.array(r13).mean()\n",
    "rouge_24 = np.array(r23).mean()\n",
    "rouge_l4 = np.array(rl3).mean()"
   ]
  },
  {
   "cell_type": "code",
   "execution_count": 191,
   "metadata": {},
   "outputs": [
    {
     "data": {
      "text/plain": [
       "(0.08953133167142455, 0.0, 0.08905022780796773)"
      ]
     },
     "execution_count": 191,
     "metadata": {},
     "output_type": "execute_result"
    }
   ],
   "source": [
    "rouge_14, rouge_24, rouge_l4 "
   ]
  },
  {
   "cell_type": "markdown",
   "metadata": {},
   "source": [
    "A comparison with Seq-to-Seq with 1000 data (Model in tut1-model3.pt)"
   ]
  },
  {
   "cell_type": "code",
   "execution_count": 206,
   "metadata": {},
   "outputs": [],
   "source": [
    "outputs4 = []\n",
    "f = open(\"Data_for_demo/S2S1000.txt\",\"r\")\n",
    "line = f.readlines()\n",
    "for a in line:\n",
    "    outputs4.append(a)"
   ]
  },
  {
   "cell_type": "code",
   "execution_count": 207,
   "metadata": {},
   "outputs": [],
   "source": [
    "r14 = [rouge.get_scores(o, t)[0][\"rouge-1\"]['r'] for o, t in zip(outputs4, target3)]\n",
    "r24 = [rouge.get_scores(o, t)[0][\"rouge-2\"]['r'] for o, t in zip(outputs4, target3)]\n",
    "rl4 = [rouge.get_scores(o, t)[0][\"rouge-l\"]['r'] for o, t in zip(outputs4, target3)]"
   ]
  },
  {
   "cell_type": "code",
   "execution_count": 208,
   "metadata": {},
   "outputs": [],
   "source": [
    "rouge_15 = np.array(r14).mean()\n",
    "rouge_25 = np.array(r24).mean()\n",
    "rouge_l5 = np.array(rl4).mean()"
   ]
  },
  {
   "cell_type": "code",
   "execution_count": 209,
   "metadata": {},
   "outputs": [
    {
     "name": "stdout",
     "output_type": "stream",
     "text": [
      "Here because of the limit of time we only training the data on a smaller set.\n",
      "Seq-to-Seq + GAN using Gloves embedding with hidden state size = 128 for 1000 data.\n",
      "ROUGE-1: 8.953 on test data.\n",
      "ROUGE-2: 0.000 on test data.\n",
      "ROUGE-l: 8.905 on test data.\n",
      "============================================================\n",
      "Seq-to-Seq using Gloves embedding with hidden state size = 128 for 1000 data.\n",
      "ROUGE-1: 7.037 on test data.\n",
      "ROUGE-2: 0.000 on test data.\n",
      "ROUGE-l: 6.845 on test data.\n"
     ]
    }
   ],
   "source": [
    "print('Here because of the limit of time, we only trained the data on a smaller set.')\n",
    "print('Seq-to-Seq + GAN using Gloves embedding with hidden state size = {:.0f} for 1000 data.'.format(hid_size))\n",
    "print('ROUGE-1: {:.3f} on test data.'.format(100*np.array(rouge_14)))\n",
    "print('ROUGE-2: {:.3f} on test data.'.format(100*np.array(rouge_24)))\n",
    "print('ROUGE-l: {:.3f} on test data.'.format(100*np.array(rouge_l4)))\n",
    "print('============================================================')\n",
    "print('Seq-to-Seq using Gloves embedding with hidden state size = {:.0f} for 1000 data.'.format(hid_size))\n",
    "print('ROUGE-1: {:.3f} on test data.'.format(100*np.array(rouge_15)))\n",
    "print('ROUGE-2: {:.3f} on test data.'.format(100*np.array(rouge_25)))\n",
    "print('ROUGE-l: {:.3f} on test data.'.format(100*np.array(rouge_l5)))"
   ]
  },
  {
   "cell_type": "markdown",
   "metadata": {},
   "source": [
    "Demo"
   ]
  },
  {
   "cell_type": "code",
   "execution_count": 233,
   "metadata": {},
   "outputs": [],
   "source": [
    "artical = []\n",
    "for text_batch, hl_batch, text_len, headline_len in testloader:\n",
    "    for i in range(hl_batch.shape[0]):\n",
    "        artical.append(' '.join([text_vocabulary.index2word[j] for j in text_batch[i,:].numpy() if (j != 0) & (j != 1) & (j != 2)]))"
   ]
  },
  {
   "cell_type": "code",
   "execution_count": 240,
   "metadata": {},
   "outputs": [
    {
     "name": "stdout",
     "output_type": "stream",
     "text": [
      "text:\n",
      "if your symptoms indicate lyme disease and you are in an area where lyme disease is prevalent your doctor should test you for the disease the cdc suggests that labs use a twostep blood testing procedure for lyme disease your doctor should send your blood to a lab to get this testing\n",
      "======================================================================================\n",
      "target summary:\n",
      "get diagnosed with lyme disease\n",
      "======================================================================================\n",
      "our summary:\n",
      "ask your doctor about your doctor\n",
      "\n",
      "text:\n",
      "with this type of neuroma there is an area of raised sensitivity which may result in pain it develops due to the physical injury to a nerve the most common cecause of this neuroma is surgery but it may also be cecaused by cuts and damage done to the nerve by needles\n",
      "======================================================================================\n",
      "target summary:\n",
      "know that traumatic unk may be a result of surgery or other physical injury\n",
      "======================================================================================\n",
      "our summary:\n",
      "know that symptoms are a\n",
      "\n",
      "text:\n",
      "living through steps one through five makes you entirely ready you just need to recognize this and know that your defects can be removed share your defects with others andor your higher power and be ready to let go of guilt anger and whatever other defects you have that are causing pain\n",
      "======================================================================================\n",
      "target summary:\n",
      "be entirely ready to have god remove all these defects of character\n",
      "======================================================================================\n",
      "our summary:\n",
      "do not be yourself\n",
      "\n",
      "text:\n",
      "if an item needs to be kept cold you can still get it ready just stick it in the fridge overnight and pop it into the appropriate bag in the morning get duplicates of items like bottles or formula for diaper bags so you have enough for the house and the bag\n",
      "======================================================================================\n",
      "target summary:\n",
      "pack lunches unk diaper bags and unk the night before to avoid the morning rush\n",
      "======================================================================================\n",
      "our summary:\n",
      "use the apple on the the\n",
      "\n",
      "text:\n",
      "flexing your abdomen will help you find those muscles and highlight them in the next steps you do not have to flex your abdomen the entire time but it is a good idea to do so before drawing each line to ensure that you are placing the shadows in their proper locations\n",
      "======================================================================================\n",
      "target summary:\n",
      "flex your abdominal muscles\n",
      "======================================================================================\n",
      "our summary:\n",
      "get a a\n",
      "\n"
     ]
    }
   ],
   "source": [
    "for i in range(6000,6005):\n",
    "    print('text:')\n",
    "    print(artical[i])\n",
    "    print('======================================================================================')\n",
    "    print('target summary:')\n",
    "    print(target[i])\n",
    "    print('======================================================================================')\n",
    "    print('our summary:')\n",
    "    print(outputs1[i])"
   ]
  },
  {
   "cell_type": "code",
   "execution_count": null,
   "metadata": {},
   "outputs": [],
   "source": []
  }
 ],
 "metadata": {
  "kernelspec": {
   "display_name": "Python 3",
   "language": "python",
   "name": "python3"
  },
  "language_info": {
   "codemirror_mode": {
    "name": "ipython",
    "version": 3
   },
   "file_extension": ".py",
   "mimetype": "text/x-python",
   "name": "python",
   "nbconvert_exporter": "python",
   "pygments_lexer": "ipython3",
   "version": "3.8.3"
  }
 },
 "nbformat": 4,
 "nbformat_minor": 4
}

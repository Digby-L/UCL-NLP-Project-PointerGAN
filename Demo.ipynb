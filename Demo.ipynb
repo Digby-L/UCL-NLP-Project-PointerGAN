{
  "nbformat": 4,
  "nbformat_minor": 0,
  "metadata": {
    "colab": {
      "name": "Demo.ipynb",
      "provenance": [],
      "collapsed_sections": []
    },
    "kernelspec": {
      "name": "python3",
      "display_name": "Python 3"
    },
    "language_info": {
      "name": "python"
    }
  },
  "cells": [
    {
      "cell_type": "markdown",
      "metadata": {
        "id": "nxEHA4kIj2iW"
      },
      "source": [
        "Download data"
      ]
    },
    {
      "cell_type": "code",
      "metadata": {
        "colab": {
          "base_uri": "https://localhost:8080/"
        },
        "id": "vyNR7X7Od4SO",
        "outputId": "8aaf97e9-20dd-46c6-ccc6-34522b7a4f13"
      },
      "source": [
        "!wget --load-cookies /tmp/cookies.txt \"https://docs.google.com/uc?export=download&confirm=$(wget --quiet --save-cookies /tmp/cookies.txt --keep-session-cookies --no-check-certificate 'https://docs.google.com/uc?export=download&id=1Cam6b51nLp6vj7x1sTqEmChA-Q3xaRPP' -O- | sed -rn 's/.*confirm=([0-9A-Za-z_]+).*/\\1\\n/p')&id=1Cam6b51nLp6vj7x1sTqEmChA-Q3xaRPP\" -O Data_for_demo.zip && rm -rf /tmp/cookies.txt\n",
        "!unzip Data_for_demo.zip\n",
        "!rm Data_for_demo.zip"
      ],
      "execution_count": null,
      "outputs": [
        {
          "output_type": "stream",
          "text": [
            "--2021-06-01 12:17:52--  https://docs.google.com/uc?export=download&confirm=su&id=1Cam6b51nLp6vj7x1sTqEmChA-Q3xaRPP\n",
            "Resolving docs.google.com (docs.google.com)... 142.250.101.139, 142.250.101.138, 142.250.101.102, ...\n",
            "Connecting to docs.google.com (docs.google.com)|142.250.101.139|:443... connected.\n",
            "HTTP request sent, awaiting response... 200 OK\n",
            "Length: unspecified [text/html]\n",
            "Saving to: ‘Data_for_demo.zip’\n",
            "\n",
            "\rData_for_demo.zip       [<=>                 ]       0  --.-KB/s               \rData_for_demo.zip       [ <=>                ]   3.21K  --.-KB/s    in 0s      \n",
            "\n",
            "2021-06-01 12:17:52 (51.3 MB/s) - ‘Data_for_demo.zip’ saved [3291]\n",
            "\n",
            "Archive:  Data_for_demo.zip\n",
            "  End-of-central-directory signature not found.  Either this file is not\n",
            "  a zipfile, or it constitutes one disk of a multi-part archive.  In the\n",
            "  latter case the central directory and zipfile comment will be found on\n",
            "  the last disk(s) of this archive.\n",
            "unzip:  cannot find zipfile directory in one of Data_for_demo.zip or\n",
            "        Data_for_demo.zip.zip, and cannot find Data_for_demo.zip.ZIP, period.\n"
          ],
          "name": "stdout"
        }
      ]
    },
    {
      "cell_type": "code",
      "metadata": {
        "colab": {
          "base_uri": "https://localhost:8080/"
        },
        "id": "56aJc--ThetY",
        "outputId": "611079ef-65b1-47b3-d42c-31aab8beefb9"
      },
      "source": [
        "!wget --load-cookies /tmp/cookies.txt \"https://docs.google.com/uc?export=download&confirm=$(wget --quiet --save-cookies /tmp/cookies.txt --keep-session-cookies --no-check-certificate 'https://docs.google.com/uc?export=download&id=1a8LR1XVcuusRrh1ce6qwKE8ZkwoL2oY0' -O- | sed -rn 's/.*confirm=([0-9A-Za-z_]+).*/\\1\\n/p')&id=1a8LR1XVcuusRrh1ce6qwKE8ZkwoL2oY0\" -O Model.zip && rm -rf /tmp/cookies.txt\n",
        "!unzip Model.zip\n",
        "!rm Model.zip"
      ],
      "execution_count": null,
      "outputs": [
        {
          "output_type": "stream",
          "text": [
            "--2021-06-01 12:26:06--  https://docs.google.com/uc?export=download&confirm=G6Os&id=1a8LR1XVcuusRrh1ce6qwKE8ZkwoL2oY0\n",
            "Resolving docs.google.com (docs.google.com)... 142.250.101.139, 142.250.101.138, 142.250.101.102, ...\n",
            "Connecting to docs.google.com (docs.google.com)|142.250.101.139|:443... connected.\n",
            "HTTP request sent, awaiting response... 302 Moved Temporarily\n",
            "Location: https://doc-10-1c-docs.googleusercontent.com/docs/securesc/r8mitu21s4tdsdgigr7j489mkl1jh87p/vrequqgunjuv6vd70e59l20r3rbshkvu/1622550300000/12975544805654496893/02441062332461995899Z/1a8LR1XVcuusRrh1ce6qwKE8ZkwoL2oY0?e=download [following]\n",
            "--2021-06-01 12:26:06--  https://doc-10-1c-docs.googleusercontent.com/docs/securesc/r8mitu21s4tdsdgigr7j489mkl1jh87p/vrequqgunjuv6vd70e59l20r3rbshkvu/1622550300000/12975544805654496893/02441062332461995899Z/1a8LR1XVcuusRrh1ce6qwKE8ZkwoL2oY0?e=download\n",
            "Resolving doc-10-1c-docs.googleusercontent.com (doc-10-1c-docs.googleusercontent.com)... 172.217.3.33, 2607:f8b0:4026:801::2001\n",
            "Connecting to doc-10-1c-docs.googleusercontent.com (doc-10-1c-docs.googleusercontent.com)|172.217.3.33|:443... connected.\n",
            "HTTP request sent, awaiting response... 302 Found\n",
            "Location: https://docs.google.com/nonceSigner?nonce=6sim2vcctejdq&continue=https://doc-10-1c-docs.googleusercontent.com/docs/securesc/r8mitu21s4tdsdgigr7j489mkl1jh87p/vrequqgunjuv6vd70e59l20r3rbshkvu/1622550300000/12975544805654496893/02441062332461995899Z/1a8LR1XVcuusRrh1ce6qwKE8ZkwoL2oY0?e%3Ddownload&hash=8og5pvuhbbk7mu355psinvrbdp0vouav [following]\n",
            "--2021-06-01 12:26:06--  https://docs.google.com/nonceSigner?nonce=6sim2vcctejdq&continue=https://doc-10-1c-docs.googleusercontent.com/docs/securesc/r8mitu21s4tdsdgigr7j489mkl1jh87p/vrequqgunjuv6vd70e59l20r3rbshkvu/1622550300000/12975544805654496893/02441062332461995899Z/1a8LR1XVcuusRrh1ce6qwKE8ZkwoL2oY0?e%3Ddownload&hash=8og5pvuhbbk7mu355psinvrbdp0vouav\n",
            "Connecting to docs.google.com (docs.google.com)|142.250.101.139|:443... connected.\n",
            "HTTP request sent, awaiting response... 302 Found\n",
            "Location: https://doc-10-1c-docs.googleusercontent.com/docs/securesc/r8mitu21s4tdsdgigr7j489mkl1jh87p/vrequqgunjuv6vd70e59l20r3rbshkvu/1622550300000/12975544805654496893/02441062332461995899Z/1a8LR1XVcuusRrh1ce6qwKE8ZkwoL2oY0?e=download&nonce=6sim2vcctejdq&user=02441062332461995899Z&hash=q76341ns4mc2fd0hbdfvbhmuoghq0h88 [following]\n",
            "--2021-06-01 12:26:06--  https://doc-10-1c-docs.googleusercontent.com/docs/securesc/r8mitu21s4tdsdgigr7j489mkl1jh87p/vrequqgunjuv6vd70e59l20r3rbshkvu/1622550300000/12975544805654496893/02441062332461995899Z/1a8LR1XVcuusRrh1ce6qwKE8ZkwoL2oY0?e=download&nonce=6sim2vcctejdq&user=02441062332461995899Z&hash=q76341ns4mc2fd0hbdfvbhmuoghq0h88\n",
            "Connecting to doc-10-1c-docs.googleusercontent.com (doc-10-1c-docs.googleusercontent.com)|172.217.3.33|:443... connected.\n",
            "HTTP request sent, awaiting response... 200 OK\n",
            "Length: unspecified [application/zip]\n",
            "Saving to: ‘Model.zip’\n",
            "\n",
            "Model.zip               [               <=>  ] 131.54M  23.2MB/s    in 5.7s    \n",
            "\n",
            "2021-06-01 12:26:12 (23.2 MB/s) - ‘Model.zip’ saved [137930721]\n",
            "\n",
            "Archive:  Model.zip\n",
            "   creating: Model/\n",
            "  inflating: Model/tut1-model3.pt    \n",
            "  inflating: Model/model1.pt         \n",
            "  inflating: __MACOSX/Model/._model1.pt  \n",
            "  inflating: Model/.DS_Store         \n",
            "  inflating: __MACOSX/Model/._.DS_Store  \n",
            "  inflating: Model/tut1-model2.pt    \n",
            "  inflating: Model/tut1-model.pt     \n",
            "  inflating: Model/tut1-model1.pt    \n"
          ],
          "name": "stdout"
        }
      ]
    },
    {
      "cell_type": "code",
      "metadata": {
        "colab": {
          "base_uri": "https://localhost:8080/"
        },
        "id": "jq3AYTVgiilu",
        "outputId": "535c8e3e-babf-42e6-8cf8-c11c1886ab6e"
      },
      "source": [
        "!wget --load-cookies /tmp/cookies.txt \"https://docs.google.com/uc?export=download&confirm=$(wget --quiet --save-cookies /tmp/cookies.txt --keep-session-cookies --no-check-certificate 'https://docs.google.com/uc?export=download&id=1RKG0xcrU0UQKYGbJktkUEmwHm4ZUESwH' -O- | sed -rn 's/.*confirm=([0-9A-Za-z_]+).*/\\1\\n/p')&id=1RKG0xcrU0UQKYGbJktkUEmwHm4ZUESwH\" -O S2S.py && rm -rf /tmp/cookies.txt"
      ],
      "execution_count": null,
      "outputs": [
        {
          "output_type": "stream",
          "text": [
            "--2021-06-01 12:30:25--  https://docs.google.com/uc?export=download&confirm=jueT&id=1RKG0xcrU0UQKYGbJktkUEmwHm4ZUESwH\n",
            "Resolving docs.google.com (docs.google.com)... 142.250.101.113, 142.250.101.139, 142.250.101.101, ...\n",
            "Connecting to docs.google.com (docs.google.com)|142.250.101.113|:443... connected.\n",
            "HTTP request sent, awaiting response... 302 Moved Temporarily\n",
            "Location: https://doc-0s-ag-docs.googleusercontent.com/docs/securesc/g7lbemvnstn0et4osgrlt2s4k0qr2p7o/5kt1dse0ivbtscsccn6rvrm228kju8r1/1622550600000/12975544805654496893/13458071852262780760Z/1RKG0xcrU0UQKYGbJktkUEmwHm4ZUESwH?e=download [following]\n",
            "--2021-06-01 12:30:25--  https://doc-0s-ag-docs.googleusercontent.com/docs/securesc/g7lbemvnstn0et4osgrlt2s4k0qr2p7o/5kt1dse0ivbtscsccn6rvrm228kju8r1/1622550600000/12975544805654496893/13458071852262780760Z/1RKG0xcrU0UQKYGbJktkUEmwHm4ZUESwH?e=download\n",
            "Resolving doc-0s-ag-docs.googleusercontent.com (doc-0s-ag-docs.googleusercontent.com)... 216.58.192.65, 2607:f8b0:4026:802::2001\n",
            "Connecting to doc-0s-ag-docs.googleusercontent.com (doc-0s-ag-docs.googleusercontent.com)|216.58.192.65|:443... connected.\n",
            "HTTP request sent, awaiting response... 302 Found\n",
            "Location: https://docs.google.com/nonceSigner?nonce=3784nivq2b9s4&continue=https://doc-0s-ag-docs.googleusercontent.com/docs/securesc/g7lbemvnstn0et4osgrlt2s4k0qr2p7o/5kt1dse0ivbtscsccn6rvrm228kju8r1/1622550600000/12975544805654496893/13458071852262780760Z/1RKG0xcrU0UQKYGbJktkUEmwHm4ZUESwH?e%3Ddownload&hash=4ii69dujfftmak8vkfcrlcov4oepps55 [following]\n",
            "--2021-06-01 12:30:25--  https://docs.google.com/nonceSigner?nonce=3784nivq2b9s4&continue=https://doc-0s-ag-docs.googleusercontent.com/docs/securesc/g7lbemvnstn0et4osgrlt2s4k0qr2p7o/5kt1dse0ivbtscsccn6rvrm228kju8r1/1622550600000/12975544805654496893/13458071852262780760Z/1RKG0xcrU0UQKYGbJktkUEmwHm4ZUESwH?e%3Ddownload&hash=4ii69dujfftmak8vkfcrlcov4oepps55\n",
            "Connecting to docs.google.com (docs.google.com)|142.250.101.113|:443... connected.\n",
            "HTTP request sent, awaiting response... 302 Found\n",
            "Location: https://doc-0s-ag-docs.googleusercontent.com/docs/securesc/g7lbemvnstn0et4osgrlt2s4k0qr2p7o/5kt1dse0ivbtscsccn6rvrm228kju8r1/1622550600000/12975544805654496893/13458071852262780760Z/1RKG0xcrU0UQKYGbJktkUEmwHm4ZUESwH?e=download&nonce=3784nivq2b9s4&user=13458071852262780760Z&hash=02k27urb0esmf2o825v6fi21hsc72lpi [following]\n",
            "--2021-06-01 12:30:25--  https://doc-0s-ag-docs.googleusercontent.com/docs/securesc/g7lbemvnstn0et4osgrlt2s4k0qr2p7o/5kt1dse0ivbtscsccn6rvrm228kju8r1/1622550600000/12975544805654496893/13458071852262780760Z/1RKG0xcrU0UQKYGbJktkUEmwHm4ZUESwH?e=download&nonce=3784nivq2b9s4&user=13458071852262780760Z&hash=02k27urb0esmf2o825v6fi21hsc72lpi\n",
            "Connecting to doc-0s-ag-docs.googleusercontent.com (doc-0s-ag-docs.googleusercontent.com)|216.58.192.65|:443... connected.\n",
            "HTTP request sent, awaiting response... 200 OK\n",
            "Length: 3636 (3.6K) [text/x-python-script]\n",
            "Saving to: ‘S2S.py’\n",
            "\n",
            "S2S.py              100%[===================>]   3.55K  --.-KB/s    in 0s      \n",
            "\n",
            "2021-06-01 12:30:25 (144 MB/s) - ‘S2S.py’ saved [3636/3636]\n",
            "\n"
          ],
          "name": "stdout"
        }
      ]
    },
    {
      "cell_type": "code",
      "metadata": {
        "id": "D5VukxWzjfSs"
      },
      "source": [
        "import os\n",
        "import sys\n",
        "import time\n",
        "import numpy as np \n",
        "import pandas as pd\n",
        "import gc\n",
        "import matplotlib.pyplot as plt\n",
        "import re\n",
        "import unicodedata\n",
        "import nltk\n",
        "from nltk.tokenize.toktok import ToktokTokenizer\n",
        "import json\n",
        "import pickle\n",
        "from nltk.stem import PorterStemmer\n",
        "from sklearn.model_selection import train_test_split\n",
        "from nltk import sent_tokenize\n",
        "import torch.nn.functional as F\n",
        "import matplotlib.pyplot as plt\n",
        "from rouge import Rouge\n",
        "\n",
        "\n",
        "import math\n",
        "import os\n",
        "import random\n",
        "import string\n",
        "\n",
        "# Pytorch library for training\n",
        "import torch\n",
        "from torch import optim\n",
        "\n",
        "import torch.nn as nn\n",
        "import torch.nn.functional as F\n",
        "from torch.nn.utils.rnn import pack_padded_sequence, pad_packed_sequence"
      ],
      "execution_count": null,
      "outputs": []
    },
    {
      "cell_type": "code",
      "metadata": {
        "id": "vzebpnzHjvJr"
      },
      "source": [
        "device = torch.device(\"cuda\" if torch.cuda.is_available() else \"cpu\")"
      ],
      "execution_count": null,
      "outputs": []
    },
    {
      "cell_type": "markdown",
      "metadata": {
        "id": "-iu3Gbkpj67J"
      },
      "source": [
        "Input vocabulary"
      ]
    },
    {
      "cell_type": "code",
      "metadata": {
        "id": "zp1mejxXjzmG"
      },
      "source": [
        "class Vocabulary:\n",
        "    PAD_token = 0   # Used for padding short sentences\n",
        "    SOS_token = 1   # Start-of-sentence token\n",
        "    EOS_token = 2   # End-of-sentence token\n",
        "    UNK_token = 3   # Out-of-vocabulary token\n",
        "\n",
        "    def __init__(self, name):\n",
        "        self.name = name\n",
        "        self.word2index = {\"pad\":0, \"sos\":1, \"eos\":2, \"unk\":3}\n",
        "        self.word2count = {\"pad\":0, \"sos\":0, \"eos\":0, \"unk\":0}              \n",
        "        self.index2word = {0: \"pad\", 1: \"sos\", 2: \"eos\", 3: \"unk\"}\n",
        "        self.num_words = 4\n",
        "        self.num_sentences = 0\n",
        "        self.longest_sentence = 0\n",
        "\n",
        "    def add_word(self, word):\n",
        "        if word not in self.word2index:\n",
        "            self.word2index[word] = self.num_words\n",
        "            self.word2count[word] = 1\n",
        "            self.index2word[self.num_words] = word\n",
        "            self.num_words += 1\n",
        "        else:\n",
        "            self.word2count[word] += 1\n",
        "            \n",
        "    def add_sentence(self, sentence):\n",
        "        sentence_len = 0\n",
        "        for word in sentence:           \n",
        "            sentence_len += 1\n",
        "            self.add_word(word)\n",
        "        if sentence_len > self.longest_sentence:\n",
        "            self.longest_sentence = sentence_len\n",
        "        self.num_sentences += 1\n",
        "\n",
        "    def to_word(self, index):\n",
        "        return self.index2word[index]\n",
        "\n",
        "    def to_index(self, word):\n",
        "        return self.word2index[word]"
      ],
      "execution_count": null,
      "outputs": []
    },
    {
      "cell_type": "code",
      "metadata": {
        "id": "qmL3pXjQj-En"
      },
      "source": [
        "# text_dictionary\n",
        "with open('Data_for_demo/text.dictionary', 'rb') as text_dictionary_file: #for S2S\n",
        "    text_vocabulary = pickle.load(text_dictionary_file)\n",
        "# headline_dictionary\n",
        "with open('Data_for_demo/headline.dictionary', 'rb') as headline_dictionary_file: #for S2S\n",
        "    headline_vocabulary = pickle.load(headline_dictionary_file)"
      ],
      "execution_count": null,
      "outputs": []
    },
    {
      "cell_type": "code",
      "metadata": {
        "id": "_-EtMr7LkAk-"
      },
      "source": [
        "# text_dictionary\n",
        "with open('Data_for_demo/text 1000.dictionary', 'rb') as text_dictionary_file: #for S2S+GAN\n",
        "    text_vocabulary1 = pickle.load(text_dictionary_file)\n",
        "# headline_dictionary\n",
        "with open('Data_for_demo/headline 1000.dictionary', 'rb') as headline_dictionary_file: #for S2S+GAN\n",
        "    headline_vocabulary1 = pickle.load(headline_dictionary_file)"
      ],
      "execution_count": null,
      "outputs": []
    },
    {
      "cell_type": "code",
      "metadata": {
        "colab": {
          "base_uri": "https://localhost:8080/"
        },
        "id": "Y5kgyHonkDOW",
        "outputId": "47c2955d-7ef8-4e8d-c683-552ac32487ef"
      },
      "source": [
        "len(text_vocabulary.index2word), len(headline_vocabulary.index2word)"
      ],
      "execution_count": null,
      "outputs": [
        {
          "output_type": "execute_result",
          "data": {
            "text/plain": [
              "(57237, 18431)"
            ]
          },
          "metadata": {
            "tags": []
          },
          "execution_count": 27
        }
      ]
    },
    {
      "cell_type": "code",
      "metadata": {
        "colab": {
          "base_uri": "https://localhost:8080/"
        },
        "id": "ppsXISF5kHKR",
        "outputId": "28ab3932-729c-40cf-f29e-85b4eece1319"
      },
      "source": [
        "len(text_vocabulary1.index2word), len(headline_vocabulary1.index2word)"
      ],
      "execution_count": null,
      "outputs": [
        {
          "output_type": "execute_result",
          "data": {
            "text/plain": [
              "(7242, 1593)"
            ]
          },
          "metadata": {
            "tags": []
          },
          "execution_count": 28
        }
      ]
    },
    {
      "cell_type": "markdown",
      "metadata": {
        "id": "-GtPvNaQkVoj"
      },
      "source": [
        "Import Embeddings"
      ]
    },
    {
      "cell_type": "code",
      "metadata": {
        "id": "Dt3TzQNekJLa"
      },
      "source": [
        "# Embeddings for the text dictionry\n",
        "pre_train_weight = np.load('Data_for_demo/embedding.npy') #for S2S\n",
        "\n",
        "# Embeddings for the headline dictionary\n",
        "pre_train_weight_head = np.load('Data_for_demo/embedding_headline.npy') #for S2S"
      ],
      "execution_count": null,
      "outputs": []
    },
    {
      "cell_type": "code",
      "metadata": {
        "id": "4HzC2xEYkJ_0"
      },
      "source": [
        "# Embeddings for the text dictionry\n",
        "pre_train_weight1 = np.load('Data_for_demo/embedding 1000.npy') #for S2S+GAN\n",
        "\n",
        "# Embeddings for the headline dictionary\n",
        "pre_train_weight_head1 = np.load('Data_for_demo/embedding_headline 1000.npy') #for S2S+GAN"
      ],
      "execution_count": null,
      "outputs": []
    },
    {
      "cell_type": "code",
      "metadata": {
        "colab": {
          "base_uri": "https://localhost:8080/"
        },
        "id": "dlRSucgikL5Z",
        "outputId": "e13a9806-c894-44fd-8c49-0f6c6a16be90"
      },
      "source": [
        "pre_train_weight.shape, pre_train_weight_head.shape"
      ],
      "execution_count": null,
      "outputs": [
        {
          "output_type": "execute_result",
          "data": {
            "text/plain": [
              "((57237, 200), (18431, 200))"
            ]
          },
          "metadata": {
            "tags": []
          },
          "execution_count": 31
        }
      ]
    },
    {
      "cell_type": "code",
      "metadata": {
        "colab": {
          "base_uri": "https://localhost:8080/"
        },
        "id": "r0381NvqkO9f",
        "outputId": "ff91e107-9a93-4d8e-e0b8-145003b5380c"
      },
      "source": [
        "pre_train_weight1.shape, pre_train_weight_head1.shape"
      ],
      "execution_count": null,
      "outputs": [
        {
          "output_type": "execute_result",
          "data": {
            "text/plain": [
              "((7242, 200), (1593, 200))"
            ]
          },
          "metadata": {
            "tags": []
          },
          "execution_count": 32
        }
      ]
    },
    {
      "cell_type": "markdown",
      "metadata": {
        "id": "IwHuPYJhkSlC"
      },
      "source": [
        "Import test data"
      ]
    },
    {
      "cell_type": "code",
      "metadata": {
        "id": "19AXv73bkP32"
      },
      "source": [
        "## Set batch size and split data after padding to batches\n",
        "def batch_dataloader(data, Batch_size):\n",
        "    data_dataloader = torch.utils.data.DataLoader(data, batch_size=Batch_size, shuffle=False, num_workers=0)\n",
        "#     for i in data_dataloader:\n",
        "#         i = torch.transpose(i, 0 ,1)\n",
        "#         print(data_dataloader)\n",
        "    \n",
        "    return data_dataloader"
      ],
      "execution_count": null,
      "outputs": []
    },
    {
      "cell_type": "code",
      "metadata": {
        "id": "IHqAUET9kYnr"
      },
      "source": [
        "testdata = torch.load('Data_for_demo/testdata_zip.pt') #for S2S"
      ],
      "execution_count": null,
      "outputs": []
    },
    {
      "cell_type": "code",
      "metadata": {
        "id": "VtLJ-QYTkbyP"
      },
      "source": [
        "testdata1 = torch.load('Data_for_demo/testdata_zip1000.pt') #for S2S+GAN"
      ],
      "execution_count": null,
      "outputs": []
    },
    {
      "cell_type": "code",
      "metadata": {
        "id": "8uEd6_o3kdhA"
      },
      "source": [
        "testloader = batch_dataloader(testdata, 30) #for S2S and S2S+GAN"
      ],
      "execution_count": null,
      "outputs": []
    },
    {
      "cell_type": "code",
      "metadata": {
        "id": "CXZ7_TtgkeJU"
      },
      "source": [
        "testloader1 = batch_dataloader(testdata1, 2)#for pgn"
      ],
      "execution_count": null,
      "outputs": []
    },
    {
      "cell_type": "markdown",
      "metadata": {
        "id": "3o1kc3ZzkhPd"
      },
      "source": [
        "Parameters"
      ]
    },
    {
      "cell_type": "code",
      "metadata": {
        "id": "EsvVtvy5kf1U"
      },
      "source": [
        "input_size = int(len(text_vocabulary.index2word.keys()))\n",
        "output_size = int(len(headline_vocabulary.index2word.keys()))\n",
        "\n",
        "enc_emb_size = 200\n",
        "dec_emb_size = 200\n",
        "hid_size = 128\n",
        "\n",
        "n_layers = 2\n",
        "enc_dropout = 0.1\n",
        "dec_dropout = 0.1"
      ],
      "execution_count": null,
      "outputs": []
    },
    {
      "cell_type": "markdown",
      "metadata": {
        "id": "lnHjsQqEkmkT"
      },
      "source": [
        "Seq-to-Seq"
      ]
    },
    {
      "cell_type": "code",
      "metadata": {
        "id": "QXnYyb9-kkW3"
      },
      "source": [
        "from S2S import *"
      ],
      "execution_count": null,
      "outputs": []
    },
    {
      "cell_type": "code",
      "metadata": {
        "colab": {
          "base_uri": "https://localhost:8080/"
        },
        "id": "liTPLiVCkpWT",
        "outputId": "0de49069-2417-4872-ff8e-184a84aec57f"
      },
      "source": [
        "encoder = Encoder1(input_size, enc_emb_size, hid_size, n_layers, enc_dropout, pre_train_weight)\n",
        "decoder = Decoder1(output_size, dec_emb_size, hid_size, n_layers, dec_dropout, pre_train_weight_head)\n",
        "seq2seq = Seq2Seq1(encoder, decoder, device, pre_train_weight)\n",
        "seq2seq"
      ],
      "execution_count": null,
      "outputs": [
        {
          "output_type": "execute_result",
          "data": {
            "text/plain": [
              "Seq2Seq1(\n",
              "  (encoder): Encoder1(\n",
              "    (lstm): LSTM(200, 128, num_layers=2, dropout=0.1)\n",
              "  )\n",
              "  (decoder): Decoder1(\n",
              "    (lstm): LSTM(200, 128, num_layers=2, dropout=0.1)\n",
              "    (out): Linear(in_features=128, out_features=18431, bias=True)\n",
              "  )\n",
              ")"
            ]
          },
          "metadata": {
            "tags": []
          },
          "execution_count": 40
        }
      ]
    },
    {
      "cell_type": "code",
      "metadata": {
        "colab": {
          "base_uri": "https://localhost:8080/"
        },
        "id": "n-vbkH2vkrcq",
        "outputId": "ed3e9378-e08f-40c2-a0ed-2709e928cfa7"
      },
      "source": [
        "seq2seq.load_state_dict(torch.load('Model/tut1-model.pt'))#Call the model with the best loss of validation"
      ],
      "execution_count": null,
      "outputs": [
        {
          "output_type": "execute_result",
          "data": {
            "text/plain": [
              "<All keys matched successfully>"
            ]
          },
          "metadata": {
            "tags": []
          },
          "execution_count": 41
        }
      ]
    },
    {
      "cell_type": "code",
      "metadata": {
        "colab": {
          "base_uri": "https://localhost:8080/"
        },
        "id": "JZm2KrYgktqE",
        "outputId": "e9259693-e57e-472f-e0b5-2b26b53c357b"
      },
      "source": [
        "%%time\n",
        "outputs = []\n",
        "target = []\n",
        "for text_batch, hl_batch, text_len, headline_len in testloader:\n",
        "    text_batch = torch.transpose(text_batch, 0, 1) \n",
        "    hl_batch = torch.transpose(hl_batch, 0, 1)\n",
        "    text_batch = text_batch[:text_len.max()]\n",
        "    hl_batch = hl_batch[:headline_len.max()]\n",
        "    with torch.no_grad():\n",
        "        a = seq2seq(text_batch, text_len, hl_batch, teacher_forcing_ratio=0)\n",
        "        a = a.argmax(2)\n",
        "    for i in range(a.shape[1]):\n",
        "        outputs.append(' '.join([headline_vocabulary.index2word[j] for j in a[:,i].numpy() if (j != 0) & (j != 1) & (j != 2)]))\n",
        "        target.append(' '.join([headline_vocabulary.index2word[j] for j in hl_batch[:,i].numpy() if (j != 0) & (j != 1) & (j != 2)])) "
      ],
      "execution_count": null,
      "outputs": [
        {
          "output_type": "stream",
          "text": [
            "CPU times: user 1min 9s, sys: 617 ms, total: 1min 9s\n",
            "Wall time: 1min 9s\n"
          ],
          "name": "stdout"
        }
      ]
    },
    {
      "cell_type": "code",
      "metadata": {
        "id": "DfRZ_pZwkwow"
      },
      "source": [
        "rouge = Rouge()\n",
        "r1 = [rouge.get_scores(o, t)[0][\"rouge-1\"]['r'] for o, t in zip(outputs, target)]\n",
        "r2 = [rouge.get_scores(o, t)[0][\"rouge-2\"]['r'] for o, t in zip(outputs, target)]\n",
        "rl = [rouge.get_scores(o, t)[0][\"rouge-l\"]['r'] for o, t in zip(outputs, target)]"
      ],
      "execution_count": null,
      "outputs": []
    },
    {
      "cell_type": "code",
      "metadata": {
        "id": "YOG0K9r9kypc"
      },
      "source": [
        "rouge_11 = np.array(r1).mean()\n",
        "rouge_21 = np.array(r2).mean()\n",
        "rouge_l1 = np.array(rl).mean()"
      ],
      "execution_count": null,
      "outputs": []
    },
    {
      "cell_type": "code",
      "metadata": {
        "id": "L0Wr-5HIk0em"
      },
      "source": [
        "trian1 = np.load('Data_for_demo/train loss 128.npy')\n",
        "val1 = np.load('Data_for_demo/val loss 128.npy')"
      ],
      "execution_count": null,
      "outputs": []
    },
    {
      "cell_type": "code",
      "metadata": {
        "colab": {
          "base_uri": "https://localhost:8080/",
          "height": 298
        },
        "id": "GquBnRwvk2PE",
        "outputId": "d569340e-e873-4638-8b70-fae1caaa9e8e"
      },
      "source": [
        "n = range(len(trian1))\n",
        "plt.plot(n,trian1)\n",
        "plt.plot(n,val1)\n",
        "plt.legend(['train loss','validation loss'])\n",
        "plt.title('Seq-to-Seq 128 with GloVe embedding')"
      ],
      "execution_count": null,
      "outputs": [
        {
          "output_type": "execute_result",
          "data": {
            "text/plain": [
              "Text(0.5, 1.0, 'Seq-to-Seq 128 with GloVe embedding')"
            ]
          },
          "metadata": {
            "tags": []
          },
          "execution_count": 47
        },
        {
          "output_type": "display_data",
          "data": {
            "image/png": "[encoded data removed]",
            "text/plain": [
              "<Figure size 432x288 with 1 Axes>"
            ]
          },
          "metadata": {
            "tags": [],
            "needs_background": "light"
          }
        }
      ]
    },
    {
      "cell_type": "markdown",
      "metadata": {
        "id": "nfXWl_NEk796"
      },
      "source": [
        "Hidden state with size 256"
      ]
    },
    {
      "cell_type": "code",
      "metadata": {
        "id": "qSlQ_vdYk4U9"
      },
      "source": [
        "hid_size1 = 256"
      ],
      "execution_count": null,
      "outputs": []
    },
    {
      "cell_type": "code",
      "metadata": {
        "colab": {
          "base_uri": "https://localhost:8080/"
        },
        "id": "_TOgU-8Mk-Gd",
        "outputId": "fea88abf-650a-460c-d762-a1f5db56b7e8"
      },
      "source": [
        "encoder1 = Encoder1(input_size, enc_emb_size, hid_size1, n_layers, enc_dropout, pre_train_weight)\n",
        "decoder1 = Decoder1(output_size, dec_emb_size, hid_size1, n_layers, dec_dropout, pre_train_weight_head)\n",
        "seq2seq1 = Seq2Seq1(encoder1, decoder1, device, pre_train_weight)\n",
        "seq2seq1"
      ],
      "execution_count": null,
      "outputs": [
        {
          "output_type": "execute_result",
          "data": {
            "text/plain": [
              "Seq2Seq1(\n",
              "  (encoder): Encoder1(\n",
              "    (lstm): LSTM(200, 256, num_layers=2, dropout=0.1)\n",
              "  )\n",
              "  (decoder): Decoder1(\n",
              "    (lstm): LSTM(200, 256, num_layers=2, dropout=0.1)\n",
              "    (out): Linear(in_features=256, out_features=18431, bias=True)\n",
              "  )\n",
              ")"
            ]
          },
          "metadata": {
            "tags": []
          },
          "execution_count": 49
        }
      ]
    },
    {
      "cell_type": "code",
      "metadata": {
        "colab": {
          "base_uri": "https://localhost:8080/"
        },
        "id": "VW8i3NGalAGp",
        "outputId": "e8f5d97f-8225-4415-9063-9c96f1c001dd"
      },
      "source": [
        "seq2seq1.load_state_dict(torch.load('Model/tut1-model2.pt'))"
      ],
      "execution_count": null,
      "outputs": [
        {
          "output_type": "execute_result",
          "data": {
            "text/plain": [
              "<All keys matched successfully>"
            ]
          },
          "metadata": {
            "tags": []
          },
          "execution_count": 50
        }
      ]
    },
    {
      "cell_type": "code",
      "metadata": {
        "colab": {
          "base_uri": "https://localhost:8080/"
        },
        "id": "-k5ln6DRlCZK",
        "outputId": "46e91f00-932f-4a48-8482-f1c88835bb0c"
      },
      "source": [
        "%%time\n",
        "outputs2 = []\n",
        "for text_batch, hl_batch, text_len, headline_len in testloader:\n",
        "    text_batch = torch.transpose(text_batch, 0, 1) \n",
        "    hl_batch = torch.transpose(hl_batch, 0, 1)\n",
        "    text_batch = text_batch[:text_len.max()]\n",
        "    hl_batch = hl_batch[:headline_len.max()]\n",
        "    with torch.no_grad():\n",
        "        a = seq2seq1(text_batch, text_len, hl_batch, teacher_forcing_ratio=0)\n",
        "        a = a.argmax(2)\n",
        "    for i in range(a.shape[1]):\n",
        "        outputs2.append(' '.join([headline_vocabulary.index2word[j] for j in a[:,i].numpy() if (j != 0) & (j != 1) & (j != 2)]))"
      ],
      "execution_count": null,
      "outputs": [
        {
          "output_type": "stream",
          "text": [
            "CPU times: user 1min 43s, sys: 1.25 s, total: 1min 44s\n",
            "Wall time: 1min 44s\n"
          ],
          "name": "stdout"
        }
      ]
    },
    {
      "cell_type": "code",
      "metadata": {
        "id": "LAkstn13lEiB"
      },
      "source": [
        "r12 = [rouge.get_scores(o, t)[0][\"rouge-1\"]['r'] for o, t in zip(outputs2, target)]\n",
        "r22 = [rouge.get_scores(o, t)[0][\"rouge-2\"]['r'] for o, t in zip(outputs2, target)]\n",
        "rl2 = [rouge.get_scores(o, t)[0][\"rouge-l\"]['r'] for o, t in zip(outputs2, target)]"
      ],
      "execution_count": null,
      "outputs": []
    },
    {
      "cell_type": "code",
      "metadata": {
        "id": "cSBnTcUglGGG"
      },
      "source": [
        "rouge_13 = np.array(r12).mean()\n",
        "rouge_23 = np.array(r22).mean()\n",
        "rouge_l3 = np.array(rl2).mean()"
      ],
      "execution_count": null,
      "outputs": []
    },
    {
      "cell_type": "code",
      "metadata": {
        "id": "kyFAwoP0lHoq"
      },
      "source": [
        "trian2 = np.load('Data_for_demo/train loss 256.npy')\n",
        "val2 = np.load('Data_for_demo/val loss 256.npy')"
      ],
      "execution_count": null,
      "outputs": []
    },
    {
      "cell_type": "code",
      "metadata": {
        "colab": {
          "base_uri": "https://localhost:8080/",
          "height": 298
        },
        "id": "aigCrXB9lJB9",
        "outputId": "5af3c3ef-01c8-46db-dfa2-736359292743"
      },
      "source": [
        "n = range(len(trian2))\n",
        "plt.plot(n,trian2)\n",
        "plt.plot(n,val2)\n",
        "plt.legend(['train loss','validation loss'])\n",
        "plt.title('Seq-to-Seq 256 with GloVe embedding')"
      ],
      "execution_count": null,
      "outputs": [
        {
          "output_type": "execute_result",
          "data": {
            "text/plain": [
              "Text(0.5, 1.0, 'Seq-to-Seq 256 with GloVe embedding')"
            ]
          },
          "metadata": {
            "tags": []
          },
          "execution_count": 55
        },
        {
          "output_type": "display_data",
          "data": {
            "image/png": "[encoded data removed]",
            "text/plain": [
              "<Figure size 432x288 with 1 Axes>"
            ]
          },
          "metadata": {
            "tags": [],
            "needs_background": "light"
          }
        }
      ]
    },
    {
      "cell_type": "markdown",
      "metadata": {
        "id": "OuWZF0x1lMXX"
      },
      "source": [
        "nn.Embedding ('tut1-model2.pt') "
      ]
    },
    {
      "cell_type": "code",
      "metadata": {
        "id": "Jvjy30OzlKW2"
      },
      "source": [
        "#S2Snn.txt obtained from Seq2SeqnnEmbedding.ipynb\n",
        "outputs1 = []\n",
        "f = open(\"Data_for_demo/S2Snn.txt\",\"r\")\n",
        "line = f.readlines()\n",
        "for a in line:\n",
        "    outputs1.append(a)"
      ],
      "execution_count": null,
      "outputs": []
    },
    {
      "cell_type": "code",
      "metadata": {
        "id": "oiVEmVx1lYGF"
      },
      "source": [
        "r11 = [rouge.get_scores(o, t)[0][\"rouge-1\"]['r'] for o, t in zip(outputs1, target)]\n",
        "r21 = [rouge.get_scores(o, t)[0][\"rouge-2\"]['r'] for o, t in zip(outputs1, target)]\n",
        "rl1 = [rouge.get_scores(o, t)[0][\"rouge-l\"]['r'] for o, t in zip(outputs1, target)]"
      ],
      "execution_count": null,
      "outputs": []
    },
    {
      "cell_type": "code",
      "metadata": {
        "id": "Z_8Z8UONlZ6P"
      },
      "source": [
        "rouge_12 = np.array(r11).mean()\n",
        "rouge_22 = np.array(r21).mean()\n",
        "rouge_l2 = np.array(rl1).mean()"
      ],
      "execution_count": null,
      "outputs": []
    },
    {
      "cell_type": "code",
      "metadata": {
        "id": "sE_wsl8plbT4"
      },
      "source": [
        "trian3 = np.load('Data_for_demo/train loss nn 128.npy')\n",
        "val3= np.load('Data_for_demo/val loss nn 128.npy')"
      ],
      "execution_count": null,
      "outputs": []
    },
    {
      "cell_type": "code",
      "metadata": {
        "colab": {
          "base_uri": "https://localhost:8080/",
          "height": 298
        },
        "id": "E-qwpZuRlcxt",
        "outputId": "6e1b8c1b-e9ea-433d-cbdf-d0f513778080"
      },
      "source": [
        "n = range(len(trian3))\n",
        "plt.plot(n,trian3)\n",
        "plt.plot(n,val3)\n",
        "plt.legend(['train loss','validation loss'])\n",
        "plt.title('Seq-to-Seq 128 with nn.embedding')"
      ],
      "execution_count": null,
      "outputs": [
        {
          "output_type": "execute_result",
          "data": {
            "text/plain": [
              "Text(0.5, 1.0, 'Seq-to-Seq 128 with nn.embedding')"
            ]
          },
          "metadata": {
            "tags": []
          },
          "execution_count": 60
        },
        {
          "output_type": "display_data",
          "data": {
            "image/png": "[encoded data removed]",
            "text/plain": [
              "<Figure size 432x288 with 1 Axes>"
            ]
          },
          "metadata": {
            "tags": [],
            "needs_background": "light"
          }
        }
      ]
    },
    {
      "cell_type": "code",
      "metadata": {
        "colab": {
          "base_uri": "https://localhost:8080/"
        },
        "id": "HanX_cpzleHf",
        "outputId": "ba50e6b1-71fe-4f9e-a5dd-d72dee0b7687"
      },
      "source": [
        "print('Seq-to-Seq using Gloves embedding with hidden state size = {:.0f}.'.format(hid_size))\n",
        "print('ROUGE-1: {:.3f} on test data.'.format(100*np.array(rouge_11)))\n",
        "print('ROUGE-2: {:.3f} on test data.'.format(100*np.array(rouge_21)))\n",
        "print('ROUGE-l: {:.3f} on test data.'.format(100*np.array(rouge_l1)))\n",
        "print('============================================================')\n",
        "print('Seq-to-Seq using nn.Embedding with hidden state size = {:.0f}.'.format(hid_size))\n",
        "print('ROUGE-1: {:.3f} on test data.'.format(100*np.array(rouge_12)))\n",
        "print('ROUGE-2: {:.3f} on test data.'.format(100*np.array(rouge_22)))\n",
        "print('ROUGE-l: {:.3f} on test data.'.format(100*np.array(rouge_l2)))\n",
        "print('============================================================')\n",
        "print('Seq-to-Seq using Gloves embedding with hidden state size = {:.0f}.'.format(hid_size1))\n",
        "print('ROUGE-1: {:.3f} on test data.'.format(100*np.array(rouge_13)))\n",
        "print('ROUGE-2: {:.3f} on test data.'.format(100*np.array(rouge_23)))\n",
        "print('ROUGE-l: {:.3f} on test data.'.format(100*np.array(rouge_l3)))"
      ],
      "execution_count": null,
      "outputs": [
        {
          "output_type": "stream",
          "text": [
            "Seq-to-Seq using Gloves embedding with hidden state size = 128.\n",
            "ROUGE-1: 13.289 on test data.\n",
            "ROUGE-2: 3.081 on test data.\n",
            "ROUGE-l: 13.069 on test data.\n",
            "============================================================\n",
            "Seq-to-Seq using nn.Embedding with hidden state size = 128.\n",
            "ROUGE-1: 11.328 on test data.\n",
            "ROUGE-2: 2.242 on test data.\n",
            "ROUGE-l: 11.058 on test data.\n",
            "============================================================\n",
            "Seq-to-Seq using Gloves embedding with hidden state size = 256.\n",
            "ROUGE-1: 13.413 on test data.\n",
            "ROUGE-2: 3.129 on test data.\n",
            "ROUGE-l: 13.150 on test data.\n"
          ],
          "name": "stdout"
        }
      ]
    },
    {
      "cell_type": "markdown",
      "metadata": {
        "id": "tKi5GLOjli_Z"
      },
      "source": [
        "Seq-to-Seq + GAN "
      ]
    },
    {
      "cell_type": "code",
      "metadata": {
        "id": "KngWmjojlgVM"
      },
      "source": [
        "input_size = int(len(text_vocabulary1.index2word.keys()))\n",
        "output_size = 1386\n",
        "\n",
        "enc_emb_size = 200\n",
        "dec_emb_size = 200\n",
        "hid_size = 128\n",
        "\n",
        "n_layers = 2\n",
        "enc_dropout = 0.1\n",
        "dec_dropout = 0.1"
      ],
      "execution_count": null,
      "outputs": []
    },
    {
      "cell_type": "code",
      "metadata": {
        "colab": {
          "base_uri": "https://localhost:8080/"
        },
        "id": "KlZmj2GAllmR",
        "outputId": "b13e83b8-dcbb-4f7d-ec83-8c2ec0834769"
      },
      "source": [
        "encoder2 = Encoder1(input_size, enc_emb_size, hid_size, n_layers, enc_dropout, pre_train_weight1)\n",
        "decoder2 = Decoder1(output_size, dec_emb_size, hid_size, n_layers, dec_dropout, pre_train_weight_head1)\n",
        "seq2seq2 = Seq2Seq1(encoder2, decoder2, device, pre_train_weight)\n",
        "seq2seq2"
      ],
      "execution_count": null,
      "outputs": [
        {
          "output_type": "execute_result",
          "data": {
            "text/plain": [
              "Seq2Seq1(\n",
              "  (encoder): Encoder1(\n",
              "    (lstm): LSTM(200, 128, num_layers=2, dropout=0.1)\n",
              "  )\n",
              "  (decoder): Decoder1(\n",
              "    (lstm): LSTM(200, 128, num_layers=2, dropout=0.1)\n",
              "    (out): Linear(in_features=128, out_features=1386, bias=True)\n",
              "  )\n",
              ")"
            ]
          },
          "metadata": {
            "tags": []
          },
          "execution_count": 63
        }
      ]
    },
    {
      "cell_type": "code",
      "metadata": {
        "colab": {
          "base_uri": "https://localhost:8080/"
        },
        "id": "0MYCCIcHlyu3",
        "outputId": "fa61864a-82cf-4188-ee0d-4ae23cc4c507"
      },
      "source": [
        "seq2seq2.load_state_dict(torch.load('Model/model1.pt'))#Call the model with the best loss of validation"
      ],
      "execution_count": null,
      "outputs": [
        {
          "output_type": "execute_result",
          "data": {
            "text/plain": [
              "<All keys matched successfully>"
            ]
          },
          "metadata": {
            "tags": []
          },
          "execution_count": 64
        }
      ]
    },
    {
      "cell_type": "code",
      "metadata": {
        "id": "wZb8jcl_l0lM"
      },
      "source": [
        "outputs3 = []\n",
        "target3 = []\n",
        "for text_batch, hl_batch, text_len, headline_len in testloader1:\n",
        "    text_batch = torch.transpose(text_batch, 0, 1) \n",
        "    hl_batch = torch.transpose(hl_batch, 0, 1)\n",
        "    text_batch = text_batch[:text_len.max()]\n",
        "    hl_batch = hl_batch[:headline_len.max()]\n",
        "    with torch.no_grad():\n",
        "        a = seq2seq2(text_batch, text_len, hl_batch, teacher_forcing_ratio=0)\n",
        "        a = a.argmax(2)\n",
        "    for i in range(a.shape[1]):\n",
        "        outputs3.append(' '.join([headline_vocabulary1.index2word[j] for j in a[:,i].numpy() if (j != 0) & (j != 1) & (j != 2)]))\n",
        "        target3.append(' '.join([headline_vocabulary1.index2word[j] for j in hl_batch[:,i].numpy() if (j != 0) & (j != 1) & (j != 2)])) "
      ],
      "execution_count": null,
      "outputs": []
    },
    {
      "cell_type": "code",
      "metadata": {
        "id": "Y9cjMcyRl2wm"
      },
      "source": [
        "r13 = [rouge.get_scores(o, t)[0][\"rouge-1\"]['r'] for o, t in zip(outputs3, target3)]\n",
        "r23 = [rouge.get_scores(o, t)[0][\"rouge-2\"]['r'] for o, t in zip(outputs3, target3)]\n",
        "rl3 = [rouge.get_scores(o, t)[0][\"rouge-l\"]['r'] for o, t in zip(outputs3, target3)]"
      ],
      "execution_count": null,
      "outputs": []
    },
    {
      "cell_type": "code",
      "metadata": {
        "id": "1M40IKVYl4cK"
      },
      "source": [
        "rouge_14 = np.array(r13).mean()\n",
        "rouge_24 = np.array(r23).mean()\n",
        "rouge_l4 = np.array(rl3).mean()"
      ],
      "execution_count": null,
      "outputs": []
    },
    {
      "cell_type": "markdown",
      "metadata": {
        "id": "6tTI7nyhl9jJ"
      },
      "source": [
        "A comparison with Seq-to-Seq with 1000 data (Model in tut1-model3.pt)"
      ]
    },
    {
      "cell_type": "code",
      "metadata": {
        "id": "wxy5VKwll6AG"
      },
      "source": [
        "outputs4 = []\n",
        "f = open(\"Data_for_demo/S2S1000.txt\",\"r\")\n",
        "line = f.readlines()\n",
        "for a in line:\n",
        "    outputs4.append(a)"
      ],
      "execution_count": null,
      "outputs": []
    },
    {
      "cell_type": "code",
      "metadata": {
        "id": "x7Kec94Sl_9x"
      },
      "source": [
        "r14 = [rouge.get_scores(o, t)[0][\"rouge-1\"]['r'] for o, t in zip(outputs4, target3)]\n",
        "r24 = [rouge.get_scores(o, t)[0][\"rouge-2\"]['r'] for o, t in zip(outputs4, target3)]\n",
        "rl4 = [rouge.get_scores(o, t)[0][\"rouge-l\"]['r'] for o, t in zip(outputs4, target3)]"
      ],
      "execution_count": null,
      "outputs": []
    },
    {
      "cell_type": "code",
      "metadata": {
        "id": "g3tNJmi7mBdQ"
      },
      "source": [
        "rouge_15 = np.array(r14).mean()\n",
        "rouge_25 = np.array(r24).mean()\n",
        "rouge_l5 = np.array(rl4).mean()"
      ],
      "execution_count": null,
      "outputs": []
    },
    {
      "cell_type": "code",
      "metadata": {
        "colab": {
          "base_uri": "https://localhost:8080/"
        },
        "id": "VGLTb5-XmCyU",
        "outputId": "6e8ca233-4aba-4486-f846-e2309b8d304d"
      },
      "source": [
        "print('Here because of the limit of time, we only trained the data on a smaller set.')\n",
        "print('Seq-to-Seq + GAN using Gloves embedding with hidden state size = {:.0f} for 1000 data.'.format(hid_size))\n",
        "print('ROUGE-1: {:.3f} on test data.'.format(100*np.array(rouge_14)))\n",
        "print('ROUGE-2: {:.3f} on test data.'.format(100*np.array(rouge_24)))\n",
        "print('ROUGE-l: {:.3f} on test data.'.format(100*np.array(rouge_l4)))\n",
        "print('============================================================')\n",
        "print('Seq-to-Seq using Gloves embedding with hidden state size = {:.0f} for 1000 data.'.format(hid_size))\n",
        "print('ROUGE-1: {:.3f} on test data.'.format(100*np.array(rouge_15)))\n",
        "print('ROUGE-2: {:.3f} on test data.'.format(100*np.array(rouge_25)))\n",
        "print('ROUGE-l: {:.3f} on test data.'.format(100*np.array(rouge_l5)))"
      ],
      "execution_count": null,
      "outputs": [
        {
          "output_type": "stream",
          "text": [
            "Here because of the limit of time, we only trained the data on a smaller set.\n",
            "Seq-to-Seq + GAN using Gloves embedding with hidden state size = 128 for 1000 data.\n",
            "ROUGE-1: 8.971 on test data.\n",
            "ROUGE-2: 0.000 on test data.\n",
            "ROUGE-l: 8.791 on test data.\n",
            "============================================================\n",
            "Seq-to-Seq using Gloves embedding with hidden state size = 128 for 1000 data.\n",
            "ROUGE-1: 7.037 on test data.\n",
            "ROUGE-2: 0.000 on test data.\n",
            "ROUGE-l: 6.845 on test data.\n"
          ],
          "name": "stdout"
        }
      ]
    },
    {
      "cell_type": "markdown",
      "metadata": {
        "id": "8QmYJCfImGYv"
      },
      "source": [
        "Demo"
      ]
    },
    {
      "cell_type": "code",
      "metadata": {
        "id": "89oArDSCmEjT"
      },
      "source": [
        "artical = []\n",
        "for text_batch, hl_batch, text_len, headline_len in testloader:\n",
        "    for i in range(hl_batch.shape[0]):\n",
        "        artical.append(' '.join([text_vocabulary.index2word[j] for j in text_batch[i,:].numpy() if (j != 0) & (j != 1) & (j != 2)]))"
      ],
      "execution_count": null,
      "outputs": []
    },
    {
      "cell_type": "code",
      "metadata": {
        "colab": {
          "base_uri": "https://localhost:8080/"
        },
        "id": "fY3spM4umIo6",
        "outputId": "c1f47df3-c9ba-4cfb-9915-7463e51f08e0"
      },
      "source": [
        "for i in range(6000,6005):\n",
        "    print('text:')\n",
        "    print(artical[i])\n",
        "    print('======================================================================================')\n",
        "    print('target summary:')\n",
        "    print(target[i])\n",
        "    print('======================================================================================')\n",
        "    print('our summary:')\n",
        "    print(outputs1[i])"
      ],
      "execution_count": null,
      "outputs": [
        {
          "output_type": "stream",
          "text": [
            "text:\n",
            "if your symptoms indicate lyme disease and you are in an area where lyme disease is prevalent your doctor should test you for the disease the cdc suggests that labs use a twostep blood testing procedure for lyme disease your doctor should send your blood to a lab to get this testing\n",
            "======================================================================================\n",
            "target summary:\n",
            "get diagnosed with lyme disease\n",
            "======================================================================================\n",
            "our summary:\n",
            "ask your doctor about your doctor\n",
            "\n",
            "text:\n",
            "with this type of neuroma there is an area of raised sensitivity which may result in pain it develops due to the physical injury to a nerve the most common cecause of this neuroma is surgery but it may also be cecaused by cuts and damage done to the nerve by needles\n",
            "======================================================================================\n",
            "target summary:\n",
            "know that traumatic unk may be a result of surgery or other physical injury\n",
            "======================================================================================\n",
            "our summary:\n",
            "know that symptoms are a\n",
            "\n",
            "text:\n",
            "living through steps one through five makes you entirely ready you just need to recognize this and know that your defects can be removed share your defects with others andor your higher power and be ready to let go of guilt anger and whatever other defects you have that are causing pain\n",
            "======================================================================================\n",
            "target summary:\n",
            "be entirely ready to have god remove all these defects of character\n",
            "======================================================================================\n",
            "our summary:\n",
            "do not be yourself\n",
            "\n",
            "text:\n",
            "if an item needs to be kept cold you can still get it ready just stick it in the fridge overnight and pop it into the appropriate bag in the morning get duplicates of items like bottles or formula for diaper bags so you have enough for the house and the bag\n",
            "======================================================================================\n",
            "target summary:\n",
            "pack lunches unk diaper bags and unk the night before to avoid the morning rush\n",
            "======================================================================================\n",
            "our summary:\n",
            "use the apple on the the\n",
            "\n",
            "text:\n",
            "flexing your abdomen will help you find those muscles and highlight them in the next steps you do not have to flex your abdomen the entire time but it is a good idea to do so before drawing each line to ensure that you are placing the shadows in their proper locations\n",
            "======================================================================================\n",
            "target summary:\n",
            "flex your abdominal muscles\n",
            "======================================================================================\n",
            "our summary:\n",
            "get a a\n",
            "\n"
          ],
          "name": "stdout"
        }
      ]
    }
  ]
}